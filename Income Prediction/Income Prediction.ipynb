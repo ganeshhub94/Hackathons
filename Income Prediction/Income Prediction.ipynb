{
 "cells": [
  {
   "cell_type": "code",
   "execution_count": 1,
   "metadata": {},
   "outputs": [],
   "source": [
    "import pandas as pd\n",
    "import numpy as np\n"
   ]
  },
  {
   "cell_type": "code",
   "execution_count": 2,
   "metadata": {},
   "outputs": [],
   "source": [
    "import matplotlib.pyplot as plt\n",
    "import seaborn as sns"
   ]
  },
  {
   "cell_type": "code",
   "execution_count": 3,
   "metadata": {},
   "outputs": [],
   "source": [
    "train=pd.read_csv(\"income_train.csv\")"
   ]
  },
  {
   "cell_type": "code",
   "execution_count": 4,
   "metadata": {},
   "outputs": [],
   "source": [
    "test=pd.read_csv(\"income_test.csv\")"
   ]
  },
  {
   "cell_type": "code",
   "execution_count": 5,
   "metadata": {},
   "outputs": [
    {
     "data": {
      "text/plain": [
       "(22792, 16)"
      ]
     },
     "execution_count": 5,
     "metadata": {},
     "output_type": "execute_result"
    }
   ],
   "source": [
    "train.shape"
   ]
  },
  {
   "cell_type": "code",
   "execution_count": 6,
   "metadata": {},
   "outputs": [
    {
     "data": {
      "text/plain": [
       "(9769, 16)"
      ]
     },
     "execution_count": 6,
     "metadata": {},
     "output_type": "execute_result"
    }
   ],
   "source": [
    "test.shape"
   ]
  },
  {
   "cell_type": "code",
   "execution_count": 7,
   "metadata": {},
   "outputs": [
    {
     "data": {
      "text/html": [
       "<div>\n",
       "<style scoped>\n",
       "    .dataframe tbody tr th:only-of-type {\n",
       "        vertical-align: middle;\n",
       "    }\n",
       "\n",
       "    .dataframe tbody tr th {\n",
       "        vertical-align: top;\n",
       "    }\n",
       "\n",
       "    .dataframe thead th {\n",
       "        text-align: right;\n",
       "    }\n",
       "</style>\n",
       "<table border=\"1\" class=\"dataframe\">\n",
       "  <thead>\n",
       "    <tr style=\"text-align: right;\">\n",
       "      <th></th>\n",
       "      <th>Unnamed: 0</th>\n",
       "      <th>age</th>\n",
       "      <th>workclass</th>\n",
       "      <th>fnlwgt</th>\n",
       "      <th>education</th>\n",
       "      <th>education.num</th>\n",
       "      <th>marital.status</th>\n",
       "      <th>occupation</th>\n",
       "      <th>relationship</th>\n",
       "      <th>race</th>\n",
       "      <th>sex</th>\n",
       "      <th>capital.gain</th>\n",
       "      <th>capital.loss</th>\n",
       "      <th>hours.per.week</th>\n",
       "      <th>native.country</th>\n",
       "      <th>income</th>\n",
       "    </tr>\n",
       "  </thead>\n",
       "  <tbody>\n",
       "    <tr>\n",
       "      <th>0</th>\n",
       "      <td>12359</td>\n",
       "      <td>49</td>\n",
       "      <td>Private</td>\n",
       "      <td>180532</td>\n",
       "      <td>Masters</td>\n",
       "      <td>14</td>\n",
       "      <td>Married-spouse-absent</td>\n",
       "      <td>Prof-specialty</td>\n",
       "      <td>Not-in-family</td>\n",
       "      <td>White</td>\n",
       "      <td>Male</td>\n",
       "      <td>0</td>\n",
       "      <td>0</td>\n",
       "      <td>40</td>\n",
       "      <td>United-States</td>\n",
       "      <td>&lt;=50K</td>\n",
       "    </tr>\n",
       "    <tr>\n",
       "      <th>1</th>\n",
       "      <td>11680</td>\n",
       "      <td>35</td>\n",
       "      <td>Local-gov</td>\n",
       "      <td>308945</td>\n",
       "      <td>HS-grad</td>\n",
       "      <td>9</td>\n",
       "      <td>Married-civ-spouse</td>\n",
       "      <td>Craft-repair</td>\n",
       "      <td>Husband</td>\n",
       "      <td>White</td>\n",
       "      <td>Male</td>\n",
       "      <td>0</td>\n",
       "      <td>0</td>\n",
       "      <td>40</td>\n",
       "      <td>United-States</td>\n",
       "      <td>&gt;50K</td>\n",
       "    </tr>\n",
       "    <tr>\n",
       "      <th>2</th>\n",
       "      <td>13682</td>\n",
       "      <td>28</td>\n",
       "      <td>Private</td>\n",
       "      <td>47907</td>\n",
       "      <td>Bachelors</td>\n",
       "      <td>13</td>\n",
       "      <td>Never-married</td>\n",
       "      <td>Adm-clerical</td>\n",
       "      <td>Not-in-family</td>\n",
       "      <td>White</td>\n",
       "      <td>Female</td>\n",
       "      <td>0</td>\n",
       "      <td>0</td>\n",
       "      <td>40</td>\n",
       "      <td>United-States</td>\n",
       "      <td>&lt;=50K</td>\n",
       "    </tr>\n",
       "    <tr>\n",
       "      <th>3</th>\n",
       "      <td>8807</td>\n",
       "      <td>32</td>\n",
       "      <td>Private</td>\n",
       "      <td>198068</td>\n",
       "      <td>HS-grad</td>\n",
       "      <td>9</td>\n",
       "      <td>Never-married</td>\n",
       "      <td>Transport-moving</td>\n",
       "      <td>Not-in-family</td>\n",
       "      <td>White</td>\n",
       "      <td>Male</td>\n",
       "      <td>0</td>\n",
       "      <td>0</td>\n",
       "      <td>60</td>\n",
       "      <td>United-States</td>\n",
       "      <td>&lt;=50K</td>\n",
       "    </tr>\n",
       "    <tr>\n",
       "      <th>4</th>\n",
       "      <td>16644</td>\n",
       "      <td>23</td>\n",
       "      <td>Private</td>\n",
       "      <td>192978</td>\n",
       "      <td>HS-grad</td>\n",
       "      <td>9</td>\n",
       "      <td>Married-civ-spouse</td>\n",
       "      <td>Handlers-cleaners</td>\n",
       "      <td>Husband</td>\n",
       "      <td>White</td>\n",
       "      <td>Male</td>\n",
       "      <td>0</td>\n",
       "      <td>0</td>\n",
       "      <td>40</td>\n",
       "      <td>United-States</td>\n",
       "      <td>&lt;=50K</td>\n",
       "    </tr>\n",
       "  </tbody>\n",
       "</table>\n",
       "</div>"
      ],
      "text/plain": [
       "   Unnamed: 0  age  workclass  fnlwgt  education  education.num  \\\n",
       "0       12359   49    Private  180532    Masters             14   \n",
       "1       11680   35  Local-gov  308945    HS-grad              9   \n",
       "2       13682   28    Private   47907  Bachelors             13   \n",
       "3        8807   32    Private  198068    HS-grad              9   \n",
       "4       16644   23    Private  192978    HS-grad              9   \n",
       "\n",
       "          marital.status         occupation   relationship   race     sex  \\\n",
       "0  Married-spouse-absent     Prof-specialty  Not-in-family  White    Male   \n",
       "1     Married-civ-spouse       Craft-repair        Husband  White    Male   \n",
       "2          Never-married       Adm-clerical  Not-in-family  White  Female   \n",
       "3          Never-married   Transport-moving  Not-in-family  White    Male   \n",
       "4     Married-civ-spouse  Handlers-cleaners        Husband  White    Male   \n",
       "\n",
       "   capital.gain  capital.loss  hours.per.week native.country income  \n",
       "0             0             0              40  United-States  <=50K  \n",
       "1             0             0              40  United-States   >50K  \n",
       "2             0             0              40  United-States  <=50K  \n",
       "3             0             0              60  United-States  <=50K  \n",
       "4             0             0              40  United-States  <=50K  "
      ]
     },
     "execution_count": 7,
     "metadata": {},
     "output_type": "execute_result"
    }
   ],
   "source": [
    "train.head()"
   ]
  },
  {
   "cell_type": "code",
   "execution_count": 8,
   "metadata": {},
   "outputs": [
    {
     "data": {
      "text/html": [
       "<div>\n",
       "<style scoped>\n",
       "    .dataframe tbody tr th:only-of-type {\n",
       "        vertical-align: middle;\n",
       "    }\n",
       "\n",
       "    .dataframe tbody tr th {\n",
       "        vertical-align: top;\n",
       "    }\n",
       "\n",
       "    .dataframe thead th {\n",
       "        text-align: right;\n",
       "    }\n",
       "</style>\n",
       "<table border=\"1\" class=\"dataframe\">\n",
       "  <thead>\n",
       "    <tr style=\"text-align: right;\">\n",
       "      <th></th>\n",
       "      <th>Unnamed: 0</th>\n",
       "      <th>age</th>\n",
       "      <th>workclass</th>\n",
       "      <th>fnlwgt</th>\n",
       "      <th>education</th>\n",
       "      <th>education.num</th>\n",
       "      <th>marital.status</th>\n",
       "      <th>occupation</th>\n",
       "      <th>relationship</th>\n",
       "      <th>race</th>\n",
       "      <th>sex</th>\n",
       "      <th>capital.gain</th>\n",
       "      <th>capital.loss</th>\n",
       "      <th>hours.per.week</th>\n",
       "      <th>native.country</th>\n",
       "      <th>income</th>\n",
       "    </tr>\n",
       "  </thead>\n",
       "  <tbody>\n",
       "    <tr>\n",
       "      <th>0</th>\n",
       "      <td>2594</td>\n",
       "      <td>41</td>\n",
       "      <td>Private</td>\n",
       "      <td>138975</td>\n",
       "      <td>Bachelors</td>\n",
       "      <td>13</td>\n",
       "      <td>Married-civ-spouse</td>\n",
       "      <td>Exec-managerial</td>\n",
       "      <td>Husband</td>\n",
       "      <td>White</td>\n",
       "      <td>Male</td>\n",
       "      <td>7688</td>\n",
       "      <td>0</td>\n",
       "      <td>45</td>\n",
       "      <td>United-States</td>\n",
       "      <td>&gt;50K</td>\n",
       "    </tr>\n",
       "    <tr>\n",
       "      <th>1</th>\n",
       "      <td>17249</td>\n",
       "      <td>35</td>\n",
       "      <td>Private</td>\n",
       "      <td>409200</td>\n",
       "      <td>Assoc-acdm</td>\n",
       "      <td>12</td>\n",
       "      <td>Never-married</td>\n",
       "      <td>Protective-serv</td>\n",
       "      <td>Not-in-family</td>\n",
       "      <td>White</td>\n",
       "      <td>Male</td>\n",
       "      <td>0</td>\n",
       "      <td>0</td>\n",
       "      <td>40</td>\n",
       "      <td>United-States</td>\n",
       "      <td>&lt;=50K</td>\n",
       "    </tr>\n",
       "    <tr>\n",
       "      <th>2</th>\n",
       "      <td>3053</td>\n",
       "      <td>56</td>\n",
       "      <td>Private</td>\n",
       "      <td>116143</td>\n",
       "      <td>Bachelors</td>\n",
       "      <td>13</td>\n",
       "      <td>Married-civ-spouse</td>\n",
       "      <td>Adm-clerical</td>\n",
       "      <td>Husband</td>\n",
       "      <td>White</td>\n",
       "      <td>Male</td>\n",
       "      <td>5178</td>\n",
       "      <td>0</td>\n",
       "      <td>44</td>\n",
       "      <td>United-States</td>\n",
       "      <td>&gt;50K</td>\n",
       "    </tr>\n",
       "    <tr>\n",
       "      <th>3</th>\n",
       "      <td>3747</td>\n",
       "      <td>61</td>\n",
       "      <td>?</td>\n",
       "      <td>71467</td>\n",
       "      <td>HS-grad</td>\n",
       "      <td>9</td>\n",
       "      <td>Married-civ-spouse</td>\n",
       "      <td>?</td>\n",
       "      <td>Husband</td>\n",
       "      <td>White</td>\n",
       "      <td>Male</td>\n",
       "      <td>3103</td>\n",
       "      <td>0</td>\n",
       "      <td>40</td>\n",
       "      <td>United-States</td>\n",
       "      <td>&gt;50K</td>\n",
       "    </tr>\n",
       "    <tr>\n",
       "      <th>4</th>\n",
       "      <td>32123</td>\n",
       "      <td>45</td>\n",
       "      <td>Private</td>\n",
       "      <td>30289</td>\n",
       "      <td>12th</td>\n",
       "      <td>8</td>\n",
       "      <td>Married-civ-spouse</td>\n",
       "      <td>Craft-repair</td>\n",
       "      <td>Husband</td>\n",
       "      <td>White</td>\n",
       "      <td>Male</td>\n",
       "      <td>0</td>\n",
       "      <td>0</td>\n",
       "      <td>40</td>\n",
       "      <td>United-States</td>\n",
       "      <td>&lt;=50K</td>\n",
       "    </tr>\n",
       "  </tbody>\n",
       "</table>\n",
       "</div>"
      ],
      "text/plain": [
       "   Unnamed: 0  age workclass  fnlwgt   education  education.num  \\\n",
       "0        2594   41   Private  138975   Bachelors             13   \n",
       "1       17249   35   Private  409200  Assoc-acdm             12   \n",
       "2        3053   56   Private  116143   Bachelors             13   \n",
       "3        3747   61         ?   71467     HS-grad              9   \n",
       "4       32123   45   Private   30289        12th              8   \n",
       "\n",
       "       marital.status       occupation   relationship   race   sex  \\\n",
       "0  Married-civ-spouse  Exec-managerial        Husband  White  Male   \n",
       "1       Never-married  Protective-serv  Not-in-family  White  Male   \n",
       "2  Married-civ-spouse     Adm-clerical        Husband  White  Male   \n",
       "3  Married-civ-spouse                ?        Husband  White  Male   \n",
       "4  Married-civ-spouse     Craft-repair        Husband  White  Male   \n",
       "\n",
       "   capital.gain  capital.loss  hours.per.week native.country income  \n",
       "0          7688             0              45  United-States   >50K  \n",
       "1             0             0              40  United-States  <=50K  \n",
       "2          5178             0              44  United-States   >50K  \n",
       "3          3103             0              40  United-States   >50K  \n",
       "4             0             0              40  United-States  <=50K  "
      ]
     },
     "execution_count": 8,
     "metadata": {},
     "output_type": "execute_result"
    }
   ],
   "source": [
    "test.head()"
   ]
  },
  {
   "cell_type": "code",
   "execution_count": 9,
   "metadata": {},
   "outputs": [],
   "source": [
    "test_new=test.drop(columns=\"income\")"
   ]
  },
  {
   "cell_type": "code",
   "execution_count": 11,
   "metadata": {
    "collapsed": true
   },
   "outputs": [
    {
     "name": "stderr",
     "output_type": "stream",
     "text": [
      "C:\\Users\\ganesh duke\\Anaconda3\\lib\\site-packages\\ipykernel_launcher.py:1: FutureWarning: Sorting because non-concatenation axis is not aligned. A future version\n",
      "of pandas will change to not sort by default.\n",
      "\n",
      "To accept the future behavior, pass 'sort=False'.\n",
      "\n",
      "To retain the current behavior and silence the warning, pass 'sort=True'.\n",
      "\n",
      "  \"\"\"Entry point for launching an IPython kernel.\n"
     ]
    }
   ],
   "source": [
    "df=pd.concat([train,test_new],axis=\"index\")"
   ]
  },
  {
   "cell_type": "code",
   "execution_count": 12,
   "metadata": {},
   "outputs": [
    {
     "data": {
      "text/plain": [
       "(32561, 16)"
      ]
     },
     "execution_count": 12,
     "metadata": {},
     "output_type": "execute_result"
    }
   ],
   "source": [
    "df.shape"
   ]
  },
  {
   "cell_type": "code",
   "execution_count": 13,
   "metadata": {},
   "outputs": [
    {
     "data": {
      "text/plain": [
       "Index(['Unnamed: 0', 'age', 'capital.gain', 'capital.loss', 'education',\n",
       "       'education.num', 'fnlwgt', 'hours.per.week', 'income', 'marital.status',\n",
       "       'native.country', 'occupation', 'race', 'relationship', 'sex',\n",
       "       'workclass'],\n",
       "      dtype='object')"
      ]
     },
     "execution_count": 13,
     "metadata": {},
     "output_type": "execute_result"
    }
   ],
   "source": [
    "df.columns"
   ]
  },
  {
   "cell_type": "code",
   "execution_count": 18,
   "metadata": {},
   "outputs": [
    {
     "data": {
      "text/plain": [
       "32561"
      ]
     },
     "execution_count": 18,
     "metadata": {},
     "output_type": "execute_result"
    }
   ],
   "source": [
    "df[\"Unnamed: 0\"].nunique()"
   ]
  },
  {
   "cell_type": "code",
   "execution_count": null,
   "metadata": {},
   "outputs": [],
   "source": [
    "## Age"
   ]
  },
  {
   "cell_type": "code",
   "execution_count": 19,
   "metadata": {},
   "outputs": [
    {
     "data": {
      "text/plain": [
       "73"
      ]
     },
     "execution_count": 19,
     "metadata": {},
     "output_type": "execute_result"
    }
   ],
   "source": [
    "df.age.nunique()"
   ]
  },
  {
   "cell_type": "code",
   "execution_count": 20,
   "metadata": {},
   "outputs": [
    {
     "data": {
      "text/plain": [
       "36    898\n",
       "31    888\n",
       "34    886\n",
       "23    877\n",
       "35    876\n",
       "33    875\n",
       "28    867\n",
       "30    861\n",
       "37    858\n",
       "25    841\n",
       "27    835\n",
       "32    828\n",
       "38    827\n",
       "39    816\n",
       "29    813\n",
       "41    808\n",
       "24    798\n",
       "40    794\n",
       "26    785\n",
       "42    780\n",
       "43    770\n",
       "22    765\n",
       "20    753\n",
       "46    737\n",
       "45    734\n",
       "44    724\n",
       "21    720\n",
       "19    712\n",
       "47    708\n",
       "50    602\n",
       "     ... \n",
       "60    312\n",
       "61    300\n",
       "62    258\n",
       "63    230\n",
       "64    208\n",
       "65    178\n",
       "67    151\n",
       "66    150\n",
       "68    120\n",
       "69    108\n",
       "70     89\n",
       "71     72\n",
       "72     67\n",
       "73     64\n",
       "74     51\n",
       "76     46\n",
       "75     45\n",
       "90     43\n",
       "77     29\n",
       "78     23\n",
       "80     22\n",
       "79     22\n",
       "81     20\n",
       "82     12\n",
       "84     10\n",
       "83      6\n",
       "85      3\n",
       "88      3\n",
       "87      1\n",
       "86      1\n",
       "Name: age, Length: 73, dtype: int64"
      ]
     },
     "execution_count": 20,
     "metadata": {},
     "output_type": "execute_result"
    }
   ],
   "source": [
    "df.age.value_counts()"
   ]
  },
  {
   "cell_type": "code",
   "execution_count": 21,
   "metadata": {},
   "outputs": [
    {
     "data": {
      "text/plain": [
       "<matplotlib.axes._subplots.AxesSubplot at 0x227c60d4748>"
      ]
     },
     "execution_count": 21,
     "metadata": {},
     "output_type": "execute_result"
    },
    {
     "data": {
      "image/png": "[encoded data removed]",
      "text/plain": [
       "<Figure size 432x288 with 1 Axes>"
      ]
     },
     "metadata": {
      "needs_background": "light"
     },
     "output_type": "display_data"
    }
   ],
   "source": [
    "sns.boxplot(df.age)"
   ]
  },
  {
   "cell_type": "code",
   "execution_count": 97,
   "metadata": {},
   "outputs": [],
   "source": [
    "outlier3=[]\n",
    "def outlier_det(data,threshold):\n",
    "    for i in data:\n",
    "        z_score=abs((i-np.mean(data))/np.std(data))\n",
    "        if z_score >threshold:\n",
    "            outlier3.append(i)\n",
    "    return outlier3,len(outlier3)"
   ]
  },
  {
   "cell_type": "code",
   "execution_count": 28,
   "metadata": {},
   "outputs": [
    {
     "data": {
      "text/plain": [
       "([80,\n",
       "  80,\n",
       "  82,\n",
       "  90,\n",
       "  90,\n",
       "  81,\n",
       "  90,\n",
       "  90,\n",
       "  90,\n",
       "  80,\n",
       "  90,\n",
       "  90,\n",
       "  84,\n",
       "  80,\n",
       "  90,\n",
       "  81,\n",
       "  84,\n",
       "  83,\n",
       "  90,\n",
       "  82,\n",
       "  90,\n",
       "  81,\n",
       "  81,\n",
       "  90,\n",
       "  88,\n",
       "  82,\n",
       "  80,\n",
       "  84,\n",
       "  84,\n",
       "  82,\n",
       "  80,\n",
       "  86,\n",
       "  90,\n",
       "  90,\n",
       "  90,\n",
       "  82,\n",
       "  81,\n",
       "  80,\n",
       "  81,\n",
       "  90,\n",
       "  90,\n",
       "  81,\n",
       "  81,\n",
       "  82,\n",
       "  80,\n",
       "  81,\n",
       "  80,\n",
       "  82,\n",
       "  90,\n",
       "  80,\n",
       "  80,\n",
       "  90,\n",
       "  90,\n",
       "  85,\n",
       "  81,\n",
       "  90,\n",
       "  81,\n",
       "  82,\n",
       "  83,\n",
       "  81,\n",
       "  84,\n",
       "  90,\n",
       "  82,\n",
       "  80,\n",
       "  90,\n",
       "  82,\n",
       "  84,\n",
       "  80,\n",
       "  85,\n",
       "  81,\n",
       "  81,\n",
       "  81,\n",
       "  88,\n",
       "  90,\n",
       "  84,\n",
       "  90,\n",
       "  81,\n",
       "  90,\n",
       "  80,\n",
       "  83,\n",
       "  88,\n",
       "  80,\n",
       "  80,\n",
       "  90,\n",
       "  80,\n",
       "  81,\n",
       "  80,\n",
       "  90,\n",
       "  84,\n",
       "  80,\n",
       "  90,\n",
       "  90,\n",
       "  90,\n",
       "  90,\n",
       "  90,\n",
       "  84,\n",
       "  80,\n",
       "  90,\n",
       "  90,\n",
       "  90,\n",
       "  81,\n",
       "  85,\n",
       "  90,\n",
       "  90,\n",
       "  80,\n",
       "  80,\n",
       "  90,\n",
       "  90,\n",
       "  83,\n",
       "  90,\n",
       "  82,\n",
       "  90,\n",
       "  87,\n",
       "  84,\n",
       "  90,\n",
       "  83,\n",
       "  82,\n",
       "  83,\n",
       "  81,\n",
       "  90,\n",
       "  81],\n",
       " 121)"
      ]
     },
     "execution_count": 28,
     "metadata": {},
     "output_type": "execute_result"
    }
   ],
   "source": [
    "outlier_det(df.age)"
   ]
  },
  {
   "cell_type": "code",
   "execution_count": 33,
   "metadata": {},
   "outputs": [],
   "source": [
    "df=df[~df.age.isin(outlier)]"
   ]
  },
  {
   "cell_type": "code",
   "execution_count": 36,
   "metadata": {},
   "outputs": [
    {
     "data": {
      "text/plain": [
       "0"
      ]
     },
     "execution_count": 36,
     "metadata": {},
     "output_type": "execute_result"
    }
   ],
   "source": [
    "df.age.isna().sum()"
   ]
  },
  {
   "cell_type": "code",
   "execution_count": 37,
   "metadata": {},
   "outputs": [
    {
     "data": {
      "text/plain": [
       "36    898\n",
       "31    888\n",
       "34    886\n",
       "23    877\n",
       "35    876\n",
       "33    875\n",
       "28    867\n",
       "30    861\n",
       "37    858\n",
       "25    841\n",
       "27    835\n",
       "32    828\n",
       "38    827\n",
       "39    816\n",
       "29    813\n",
       "41    808\n",
       "24    798\n",
       "40    794\n",
       "26    785\n",
       "42    780\n",
       "43    770\n",
       "22    765\n",
       "20    753\n",
       "46    737\n",
       "45    734\n",
       "44    724\n",
       "21    720\n",
       "19    712\n",
       "47    708\n",
       "50    602\n",
       "     ... \n",
       "48    543\n",
       "52    478\n",
       "53    464\n",
       "55    419\n",
       "54    415\n",
       "17    395\n",
       "58    366\n",
       "56    366\n",
       "57    358\n",
       "59    355\n",
       "60    312\n",
       "61    300\n",
       "62    258\n",
       "63    230\n",
       "64    208\n",
       "65    178\n",
       "67    151\n",
       "66    150\n",
       "68    120\n",
       "69    108\n",
       "70     89\n",
       "71     72\n",
       "72     67\n",
       "73     64\n",
       "74     51\n",
       "76     46\n",
       "75     45\n",
       "77     29\n",
       "78     23\n",
       "79     22\n",
       "Name: age, Length: 63, dtype: int64"
      ]
     },
     "execution_count": 37,
     "metadata": {},
     "output_type": "execute_result"
    }
   ],
   "source": [
    "df.age.value_counts()"
   ]
  },
  {
   "cell_type": "code",
   "execution_count": 40,
   "metadata": {},
   "outputs": [
    {
     "data": {
      "text/html": [
       "<div>\n",
       "<style scoped>\n",
       "    .dataframe tbody tr th:only-of-type {\n",
       "        vertical-align: middle;\n",
       "    }\n",
       "\n",
       "    .dataframe tbody tr th {\n",
       "        vertical-align: top;\n",
       "    }\n",
       "\n",
       "    .dataframe thead th {\n",
       "        text-align: right;\n",
       "    }\n",
       "</style>\n",
       "<table border=\"1\" class=\"dataframe\">\n",
       "  <thead>\n",
       "    <tr style=\"text-align: right;\">\n",
       "      <th></th>\n",
       "      <th>Unnamed: 0</th>\n",
       "      <th>age</th>\n",
       "      <th>capital.gain</th>\n",
       "      <th>capital.loss</th>\n",
       "      <th>education</th>\n",
       "      <th>education.num</th>\n",
       "      <th>fnlwgt</th>\n",
       "      <th>hours.per.week</th>\n",
       "      <th>income</th>\n",
       "      <th>marital.status</th>\n",
       "      <th>native.country</th>\n",
       "      <th>occupation</th>\n",
       "      <th>race</th>\n",
       "      <th>relationship</th>\n",
       "      <th>sex</th>\n",
       "      <th>workclass</th>\n",
       "    </tr>\n",
       "  </thead>\n",
       "  <tbody>\n",
       "    <tr>\n",
       "      <th>0</th>\n",
       "      <td>12359</td>\n",
       "      <td>49</td>\n",
       "      <td>0</td>\n",
       "      <td>0</td>\n",
       "      <td>Masters</td>\n",
       "      <td>14</td>\n",
       "      <td>180532</td>\n",
       "      <td>40</td>\n",
       "      <td>&lt;=50K</td>\n",
       "      <td>Married-spouse-absent</td>\n",
       "      <td>United-States</td>\n",
       "      <td>Prof-specialty</td>\n",
       "      <td>White</td>\n",
       "      <td>Not-in-family</td>\n",
       "      <td>Male</td>\n",
       "      <td>Private</td>\n",
       "    </tr>\n",
       "    <tr>\n",
       "      <th>1</th>\n",
       "      <td>11680</td>\n",
       "      <td>35</td>\n",
       "      <td>0</td>\n",
       "      <td>0</td>\n",
       "      <td>HS-grad</td>\n",
       "      <td>9</td>\n",
       "      <td>308945</td>\n",
       "      <td>40</td>\n",
       "      <td>&gt;50K</td>\n",
       "      <td>Married-civ-spouse</td>\n",
       "      <td>United-States</td>\n",
       "      <td>Craft-repair</td>\n",
       "      <td>White</td>\n",
       "      <td>Husband</td>\n",
       "      <td>Male</td>\n",
       "      <td>Local-gov</td>\n",
       "    </tr>\n",
       "    <tr>\n",
       "      <th>2</th>\n",
       "      <td>13682</td>\n",
       "      <td>28</td>\n",
       "      <td>0</td>\n",
       "      <td>0</td>\n",
       "      <td>Bachelors</td>\n",
       "      <td>13</td>\n",
       "      <td>47907</td>\n",
       "      <td>40</td>\n",
       "      <td>&lt;=50K</td>\n",
       "      <td>Never-married</td>\n",
       "      <td>United-States</td>\n",
       "      <td>Adm-clerical</td>\n",
       "      <td>White</td>\n",
       "      <td>Not-in-family</td>\n",
       "      <td>Female</td>\n",
       "      <td>Private</td>\n",
       "    </tr>\n",
       "    <tr>\n",
       "      <th>3</th>\n",
       "      <td>8807</td>\n",
       "      <td>32</td>\n",
       "      <td>0</td>\n",
       "      <td>0</td>\n",
       "      <td>HS-grad</td>\n",
       "      <td>9</td>\n",
       "      <td>198068</td>\n",
       "      <td>60</td>\n",
       "      <td>&lt;=50K</td>\n",
       "      <td>Never-married</td>\n",
       "      <td>United-States</td>\n",
       "      <td>Transport-moving</td>\n",
       "      <td>White</td>\n",
       "      <td>Not-in-family</td>\n",
       "      <td>Male</td>\n",
       "      <td>Private</td>\n",
       "    </tr>\n",
       "    <tr>\n",
       "      <th>4</th>\n",
       "      <td>16644</td>\n",
       "      <td>23</td>\n",
       "      <td>0</td>\n",
       "      <td>0</td>\n",
       "      <td>HS-grad</td>\n",
       "      <td>9</td>\n",
       "      <td>192978</td>\n",
       "      <td>40</td>\n",
       "      <td>&lt;=50K</td>\n",
       "      <td>Married-civ-spouse</td>\n",
       "      <td>United-States</td>\n",
       "      <td>Handlers-cleaners</td>\n",
       "      <td>White</td>\n",
       "      <td>Husband</td>\n",
       "      <td>Male</td>\n",
       "      <td>Private</td>\n",
       "    </tr>\n",
       "  </tbody>\n",
       "</table>\n",
       "</div>"
      ],
      "text/plain": [
       "   Unnamed: 0  age  capital.gain  capital.loss  education  education.num  \\\n",
       "0       12359   49             0             0    Masters             14   \n",
       "1       11680   35             0             0    HS-grad              9   \n",
       "2       13682   28             0             0  Bachelors             13   \n",
       "3        8807   32             0             0    HS-grad              9   \n",
       "4       16644   23             0             0    HS-grad              9   \n",
       "\n",
       "   fnlwgt  hours.per.week income         marital.status native.country  \\\n",
       "0  180532              40  <=50K  Married-spouse-absent  United-States   \n",
       "1  308945              40   >50K     Married-civ-spouse  United-States   \n",
       "2   47907              40  <=50K          Never-married  United-States   \n",
       "3  198068              60  <=50K          Never-married  United-States   \n",
       "4  192978              40  <=50K     Married-civ-spouse  United-States   \n",
       "\n",
       "          occupation   race   relationship     sex  workclass  \n",
       "0     Prof-specialty  White  Not-in-family    Male    Private  \n",
       "1       Craft-repair  White        Husband    Male  Local-gov  \n",
       "2       Adm-clerical  White  Not-in-family  Female    Private  \n",
       "3   Transport-moving  White  Not-in-family    Male    Private  \n",
       "4  Handlers-cleaners  White        Husband    Male    Private  "
      ]
     },
     "execution_count": 40,
     "metadata": {},
     "output_type": "execute_result"
    }
   ],
   "source": [
    "df.head()"
   ]
  },
  {
   "cell_type": "markdown",
   "metadata": {},
   "source": [
    "## Education"
   ]
  },
  {
   "cell_type": "code",
   "execution_count": 43,
   "metadata": {},
   "outputs": [
    {
     "data": {
      "text/plain": [
       "HS-grad         10459\n",
       "Some-college     7276\n",
       "Bachelors        5340\n",
       "Masters          1715\n",
       "Assoc-voc        1378\n",
       "11th             1172\n",
       "Assoc-acdm       1065\n",
       "10th              929\n",
       "7th-8th           634\n",
       "Prof-school       570\n",
       "9th               512\n",
       "12th              433\n",
       "Doctorate         412\n",
       "5th-6th           330\n",
       "1st-4th           164\n",
       "Preschool          51\n",
       "Name: education, dtype: int64"
      ]
     },
     "execution_count": 43,
     "metadata": {},
     "output_type": "execute_result"
    }
   ],
   "source": [
    "df.education.value_counts()"
   ]
  },
  {
   "cell_type": "code",
   "execution_count": 50,
   "metadata": {},
   "outputs": [],
   "source": [
    "df.education.replace([\"5th-6th\",'1st-4th',\"Preschool\"],\"Primary\",inplace=True)"
   ]
  },
  {
   "cell_type": "code",
   "execution_count": 52,
   "metadata": {},
   "outputs": [],
   "source": [
    "df.education.replace([\"9th\",'7th-8th'],\"Secondry\",inplace=True)"
   ]
  },
  {
   "cell_type": "code",
   "execution_count": 53,
   "metadata": {},
   "outputs": [
    {
     "data": {
      "text/plain": [
       "HS-grad         10459\n",
       "Some-college     7276\n",
       "Bachelors        5340\n",
       "Masters          1715\n",
       "Assoc-voc        1378\n",
       "11th             1172\n",
       "Secondry         1146\n",
       "Assoc-acdm       1065\n",
       "10th              929\n",
       "Prof-school       570\n",
       "Primary           545\n",
       "12th              433\n",
       "Doctorate         412\n",
       "Name: education, dtype: int64"
      ]
     },
     "execution_count": 53,
     "metadata": {},
     "output_type": "execute_result"
    }
   ],
   "source": [
    "df.education.value_counts()"
   ]
  },
  {
   "cell_type": "code",
   "execution_count": 63,
   "metadata": {},
   "outputs": [
    {
     "data": {
      "text/plain": [
       "<=50K    17228\n",
       ">50K      5486\n",
       "Name: income, dtype: int64"
      ]
     },
     "execution_count": 63,
     "metadata": {},
     "output_type": "execute_result"
    }
   ],
   "source": [
    "df.income.value_counts()"
   ]
  },
  {
   "cell_type": "code",
   "execution_count": 64,
   "metadata": {},
   "outputs": [],
   "source": [
    "df.income.replace(\">50K\",1,inplace=True)"
   ]
  },
  {
   "cell_type": "code",
   "execution_count": 65,
   "metadata": {},
   "outputs": [],
   "source": [
    "df.income.replace(\"<=50K\",0,inplace=True)"
   ]
  },
  {
   "cell_type": "code",
   "execution_count": 66,
   "metadata": {},
   "outputs": [
    {
     "data": {
      "text/plain": [
       "0.0    17228\n",
       "1.0     5486\n",
       "Name: income, dtype: int64"
      ]
     },
     "execution_count": 66,
     "metadata": {},
     "output_type": "execute_result"
    }
   ],
   "source": [
    "df.income.value_counts()"
   ]
  },
  {
   "cell_type": "code",
   "execution_count": 54,
   "metadata": {},
   "outputs": [
    {
     "data": {
      "text/html": [
       "<div>\n",
       "<style scoped>\n",
       "    .dataframe tbody tr th:only-of-type {\n",
       "        vertical-align: middle;\n",
       "    }\n",
       "\n",
       "    .dataframe tbody tr th {\n",
       "        vertical-align: top;\n",
       "    }\n",
       "\n",
       "    .dataframe thead th {\n",
       "        text-align: right;\n",
       "    }\n",
       "</style>\n",
       "<table border=\"1\" class=\"dataframe\">\n",
       "  <thead>\n",
       "    <tr style=\"text-align: right;\">\n",
       "      <th></th>\n",
       "      <th>Unnamed: 0</th>\n",
       "      <th>age</th>\n",
       "      <th>capital.gain</th>\n",
       "      <th>capital.loss</th>\n",
       "      <th>education</th>\n",
       "      <th>education.num</th>\n",
       "      <th>fnlwgt</th>\n",
       "      <th>hours.per.week</th>\n",
       "      <th>income</th>\n",
       "      <th>marital.status</th>\n",
       "      <th>native.country</th>\n",
       "      <th>occupation</th>\n",
       "      <th>race</th>\n",
       "      <th>relationship</th>\n",
       "      <th>sex</th>\n",
       "      <th>workclass</th>\n",
       "    </tr>\n",
       "  </thead>\n",
       "  <tbody>\n",
       "    <tr>\n",
       "      <th>0</th>\n",
       "      <td>12359</td>\n",
       "      <td>49</td>\n",
       "      <td>0</td>\n",
       "      <td>0</td>\n",
       "      <td>Masters</td>\n",
       "      <td>14</td>\n",
       "      <td>180532</td>\n",
       "      <td>40</td>\n",
       "      <td>&lt;=50K</td>\n",
       "      <td>Married-spouse-absent</td>\n",
       "      <td>United-States</td>\n",
       "      <td>Prof-specialty</td>\n",
       "      <td>White</td>\n",
       "      <td>Not-in-family</td>\n",
       "      <td>Male</td>\n",
       "      <td>Private</td>\n",
       "    </tr>\n",
       "    <tr>\n",
       "      <th>1</th>\n",
       "      <td>11680</td>\n",
       "      <td>35</td>\n",
       "      <td>0</td>\n",
       "      <td>0</td>\n",
       "      <td>HS-grad</td>\n",
       "      <td>9</td>\n",
       "      <td>308945</td>\n",
       "      <td>40</td>\n",
       "      <td>&gt;50K</td>\n",
       "      <td>Married-civ-spouse</td>\n",
       "      <td>United-States</td>\n",
       "      <td>Craft-repair</td>\n",
       "      <td>White</td>\n",
       "      <td>Husband</td>\n",
       "      <td>Male</td>\n",
       "      <td>Local-gov</td>\n",
       "    </tr>\n",
       "  </tbody>\n",
       "</table>\n",
       "</div>"
      ],
      "text/plain": [
       "   Unnamed: 0  age  capital.gain  capital.loss education  education.num  \\\n",
       "0       12359   49             0             0   Masters             14   \n",
       "1       11680   35             0             0   HS-grad              9   \n",
       "\n",
       "   fnlwgt  hours.per.week income         marital.status native.country  \\\n",
       "0  180532              40  <=50K  Married-spouse-absent  United-States   \n",
       "1  308945              40   >50K     Married-civ-spouse  United-States   \n",
       "\n",
       "       occupation   race   relationship   sex  workclass  \n",
       "0  Prof-specialty  White  Not-in-family  Male    Private  \n",
       "1    Craft-repair  White        Husband  Male  Local-gov  "
      ]
     },
     "execution_count": 54,
     "metadata": {},
     "output_type": "execute_result"
    }
   ],
   "source": [
    "df.head(2)"
   ]
  },
  {
   "cell_type": "code",
   "execution_count": 58,
   "metadata": {},
   "outputs": [
    {
     "data": {
      "text/plain": [
       "0        29743\n",
       "15024      347\n",
       "7688       284\n",
       "7298       246\n",
       "99999      159\n",
       "5178        97\n",
       "3103        97\n",
       "4386        70\n",
       "5013        69\n",
       "8614        55\n",
       "3325        53\n",
       "2174        48\n",
       "10520       43\n",
       "4064        42\n",
       "4650        41\n",
       "14084       41\n",
       "3137        37\n",
       "27828       34\n",
       "594         34\n",
       "20051       34\n",
       "3908        32\n",
       "2829        31\n",
       "13550       27\n",
       "6849        27\n",
       "14344       26\n",
       "1055        25\n",
       "2885        24\n",
       "3411        24\n",
       "4787        23\n",
       "2176        23\n",
       "         ...  \n",
       "6767         4\n",
       "991          4\n",
       "25124        4\n",
       "1424         3\n",
       "2961         3\n",
       "7896         3\n",
       "4687         3\n",
       "1173         3\n",
       "5721         3\n",
       "2009         3\n",
       "6360         3\n",
       "2936         2\n",
       "41310        2\n",
       "6723         2\n",
       "3456         2\n",
       "2993         2\n",
       "11678        2\n",
       "18481        2\n",
       "7978         1\n",
       "2062         1\n",
       "1639         1\n",
       "2538         1\n",
       "2387         1\n",
       "401          1\n",
       "5060         1\n",
       "4931         1\n",
       "1455         1\n",
       "6097         1\n",
       "22040        1\n",
       "1111         1\n",
       "Name: capital.gain, Length: 119, dtype: int64"
      ]
     },
     "execution_count": 58,
     "metadata": {},
     "output_type": "execute_result"
    }
   ],
   "source": [
    "df[\"capital.gain\"].value_counts()"
   ]
  },
  {
   "cell_type": "code",
   "execution_count": 59,
   "metadata": {},
   "outputs": [
    {
     "data": {
      "text/plain": [
       "1077.9606966707768"
      ]
     },
     "execution_count": 59,
     "metadata": {},
     "output_type": "execute_result"
    }
   ],
   "source": [
    "df[\"capital.gain\"].mean()"
   ]
  },
  {
   "cell_type": "code",
   "execution_count": 67,
   "metadata": {},
   "outputs": [
    {
     "data": {
      "text/html": [
       "<div>\n",
       "<style scoped>\n",
       "    .dataframe tbody tr th:only-of-type {\n",
       "        vertical-align: middle;\n",
       "    }\n",
       "\n",
       "    .dataframe tbody tr th {\n",
       "        vertical-align: top;\n",
       "    }\n",
       "\n",
       "    .dataframe thead th {\n",
       "        text-align: right;\n",
       "    }\n",
       "</style>\n",
       "<table border=\"1\" class=\"dataframe\">\n",
       "  <thead>\n",
       "    <tr style=\"text-align: right;\">\n",
       "      <th></th>\n",
       "      <th>Unnamed: 0</th>\n",
       "      <th>age</th>\n",
       "      <th>capital.gain</th>\n",
       "      <th>capital.loss</th>\n",
       "      <th>education.num</th>\n",
       "      <th>fnlwgt</th>\n",
       "      <th>hours.per.week</th>\n",
       "      <th>income</th>\n",
       "    </tr>\n",
       "  </thead>\n",
       "  <tbody>\n",
       "    <tr>\n",
       "      <th>Unnamed: 0</th>\n",
       "      <td>1.000000</td>\n",
       "      <td>-0.077759</td>\n",
       "      <td>-0.220386</td>\n",
       "      <td>-0.359710</td>\n",
       "      <td>-0.088089</td>\n",
       "      <td>0.001835</td>\n",
       "      <td>-0.055060</td>\n",
       "      <td>-0.177949</td>\n",
       "    </tr>\n",
       "    <tr>\n",
       "      <th>age</th>\n",
       "      <td>-0.077759</td>\n",
       "      <td>1.000000</td>\n",
       "      <td>0.079492</td>\n",
       "      <td>0.057136</td>\n",
       "      <td>0.041005</td>\n",
       "      <td>-0.075121</td>\n",
       "      <td>0.082650</td>\n",
       "      <td>0.243865</td>\n",
       "    </tr>\n",
       "    <tr>\n",
       "      <th>capital.gain</th>\n",
       "      <td>-0.220386</td>\n",
       "      <td>0.079492</td>\n",
       "      <td>1.000000</td>\n",
       "      <td>-0.031598</td>\n",
       "      <td>0.122713</td>\n",
       "      <td>0.000459</td>\n",
       "      <td>0.078142</td>\n",
       "      <td>0.216784</td>\n",
       "    </tr>\n",
       "    <tr>\n",
       "      <th>capital.loss</th>\n",
       "      <td>-0.359710</td>\n",
       "      <td>0.057136</td>\n",
       "      <td>-0.031598</td>\n",
       "      <td>1.000000</td>\n",
       "      <td>0.080487</td>\n",
       "      <td>-0.009475</td>\n",
       "      <td>0.054863</td>\n",
       "      <td>0.155200</td>\n",
       "    </tr>\n",
       "    <tr>\n",
       "      <th>education.num</th>\n",
       "      <td>-0.088089</td>\n",
       "      <td>0.041005</td>\n",
       "      <td>0.122713</td>\n",
       "      <td>0.080487</td>\n",
       "      <td>1.000000</td>\n",
       "      <td>-0.043339</td>\n",
       "      <td>0.147309</td>\n",
       "      <td>0.336108</td>\n",
       "    </tr>\n",
       "    <tr>\n",
       "      <th>fnlwgt</th>\n",
       "      <td>0.001835</td>\n",
       "      <td>-0.075121</td>\n",
       "      <td>0.000459</td>\n",
       "      <td>-0.009475</td>\n",
       "      <td>-0.043339</td>\n",
       "      <td>1.000000</td>\n",
       "      <td>-0.019604</td>\n",
       "      <td>-0.007358</td>\n",
       "    </tr>\n",
       "    <tr>\n",
       "      <th>hours.per.week</th>\n",
       "      <td>-0.055060</td>\n",
       "      <td>0.082650</td>\n",
       "      <td>0.078142</td>\n",
       "      <td>0.054863</td>\n",
       "      <td>0.147309</td>\n",
       "      <td>-0.019604</td>\n",
       "      <td>1.000000</td>\n",
       "      <td>0.231127</td>\n",
       "    </tr>\n",
       "    <tr>\n",
       "      <th>income</th>\n",
       "      <td>-0.177949</td>\n",
       "      <td>0.243865</td>\n",
       "      <td>0.216784</td>\n",
       "      <td>0.155200</td>\n",
       "      <td>0.336108</td>\n",
       "      <td>-0.007358</td>\n",
       "      <td>0.231127</td>\n",
       "      <td>1.000000</td>\n",
       "    </tr>\n",
       "  </tbody>\n",
       "</table>\n",
       "</div>"
      ],
      "text/plain": [
       "                Unnamed: 0       age  capital.gain  capital.loss  \\\n",
       "Unnamed: 0        1.000000 -0.077759     -0.220386     -0.359710   \n",
       "age              -0.077759  1.000000      0.079492      0.057136   \n",
       "capital.gain     -0.220386  0.079492      1.000000     -0.031598   \n",
       "capital.loss     -0.359710  0.057136     -0.031598      1.000000   \n",
       "education.num    -0.088089  0.041005      0.122713      0.080487   \n",
       "fnlwgt            0.001835 -0.075121      0.000459     -0.009475   \n",
       "hours.per.week   -0.055060  0.082650      0.078142      0.054863   \n",
       "income           -0.177949  0.243865      0.216784      0.155200   \n",
       "\n",
       "                education.num    fnlwgt  hours.per.week    income  \n",
       "Unnamed: 0          -0.088089  0.001835       -0.055060 -0.177949  \n",
       "age                  0.041005 -0.075121        0.082650  0.243865  \n",
       "capital.gain         0.122713  0.000459        0.078142  0.216784  \n",
       "capital.loss         0.080487 -0.009475        0.054863  0.155200  \n",
       "education.num        1.000000 -0.043339        0.147309  0.336108  \n",
       "fnlwgt              -0.043339  1.000000       -0.019604 -0.007358  \n",
       "hours.per.week       0.147309 -0.019604        1.000000  0.231127  \n",
       "income               0.336108 -0.007358        0.231127  1.000000  "
      ]
     },
     "execution_count": 67,
     "metadata": {},
     "output_type": "execute_result"
    }
   ],
   "source": [
    "df.corr()"
   ]
  },
  {
   "cell_type": "code",
   "execution_count": 61,
   "metadata": {},
   "outputs": [
    {
     "data": {
      "text/plain": [
       "<matplotlib.axes._subplots.AxesSubplot at 0x227c4f2bc88>"
      ]
     },
     "execution_count": 61,
     "metadata": {},
     "output_type": "execute_result"
    },
    {
     "data": {
      "image/png": "[encoded data removed]",
      "text/plain": [
       "<Figure size 432x288 with 2 Axes>"
      ]
     },
     "metadata": {
      "needs_background": "light"
     },
     "output_type": "display_data"
    }
   ],
   "source": [
    "sns.heatmap(df.corr())"
   ]
  },
  {
   "cell_type": "code",
   "execution_count": 69,
   "metadata": {},
   "outputs": [
    {
     "data": {
      "text/plain": [
       "<matplotlib.axes._subplots.AxesSubplot at 0x227c5225eb8>"
      ]
     },
     "execution_count": 69,
     "metadata": {},
     "output_type": "execute_result"
    },
    {
     "data": {
      "image/png": "[encoded data removed]",
      "text/plain": [
       "<Figure size 432x288 with 1 Axes>"
      ]
     },
     "metadata": {
      "needs_background": "light"
     },
     "output_type": "display_data"
    }
   ],
   "source": [
    "sns.boxplot(df[\"capital.gain\"])\n"
   ]
  },
  {
   "cell_type": "markdown",
   "metadata": {},
   "source": [
    "## Capitalloss"
   ]
  },
  {
   "cell_type": "code",
   "execution_count": 71,
   "metadata": {},
   "outputs": [
    {
     "data": {
      "text/plain": [
       "0       30928\n",
       "1902      202\n",
       "1977      168\n",
       "1887      159\n",
       "1848       51\n",
       "1485       51\n",
       "2415       49\n",
       "1602       47\n",
       "1740       42\n",
       "1590       40\n",
       "1876       39\n",
       "1672       34\n",
       "1564       25\n",
       "2258       25\n",
       "1669       24\n",
       "1741       24\n",
       "2001       24\n",
       "1980       23\n",
       "1719       22\n",
       "2002       21\n",
       "2051       21\n",
       "1408       21\n",
       "1579       20\n",
       "2377       19\n",
       "1721       18\n",
       "1504       18\n",
       "1974       18\n",
       "2339       17\n",
       "2179       15\n",
       "1628       15\n",
       "        ...  \n",
       "323         3\n",
       "2267        3\n",
       "2238        2\n",
       "1755        2\n",
       "2352        2\n",
       "1138        2\n",
       "810         2\n",
       "3683        2\n",
       "1735        2\n",
       "3770        2\n",
       "2754        2\n",
       "1648        2\n",
       "3004        2\n",
       "3900        2\n",
       "2149        2\n",
       "974         2\n",
       "2080        1\n",
       "4356        1\n",
       "2489        1\n",
       "2282        1\n",
       "2163        1\n",
       "155         1\n",
       "2467        1\n",
       "1844        1\n",
       "1411        1\n",
       "1539        1\n",
       "2472        1\n",
       "1944        1\n",
       "1816        1\n",
       "2201        1\n",
       "Name: capital.loss, Length: 92, dtype: int64"
      ]
     },
     "execution_count": 71,
     "metadata": {},
     "output_type": "execute_result"
    }
   ],
   "source": [
    "df[\"capital.loss\"].value_counts()"
   ]
  },
  {
   "cell_type": "code",
   "execution_count": 73,
   "metadata": {},
   "outputs": [
    {
     "data": {
      "text/plain": [
       "<matplotlib.axes._subplots.AxesSubplot at 0x227c728bfd0>"
      ]
     },
     "execution_count": 73,
     "metadata": {},
     "output_type": "execute_result"
    },
    {
     "data": {
      "image/png": "[encoded data removed]",
      "text/plain": [
       "<Figure size 432x288 with 1 Axes>"
      ]
     },
     "metadata": {
      "needs_background": "light"
     },
     "output_type": "display_data"
    }
   ],
   "source": [
    "sns.boxplot(df[\"capital.loss\"])"
   ]
  },
  {
   "cell_type": "code",
   "execution_count": 74,
   "metadata": {},
   "outputs": [
    {
     "data": {
      "text/html": [
       "<div>\n",
       "<style scoped>\n",
       "    .dataframe tbody tr th:only-of-type {\n",
       "        vertical-align: middle;\n",
       "    }\n",
       "\n",
       "    .dataframe tbody tr th {\n",
       "        vertical-align: top;\n",
       "    }\n",
       "\n",
       "    .dataframe thead th {\n",
       "        text-align: right;\n",
       "    }\n",
       "</style>\n",
       "<table border=\"1\" class=\"dataframe\">\n",
       "  <thead>\n",
       "    <tr style=\"text-align: right;\">\n",
       "      <th></th>\n",
       "      <th>Unnamed: 0</th>\n",
       "      <th>age</th>\n",
       "      <th>capital.gain</th>\n",
       "      <th>capital.loss</th>\n",
       "      <th>education</th>\n",
       "      <th>education.num</th>\n",
       "      <th>fnlwgt</th>\n",
       "      <th>hours.per.week</th>\n",
       "      <th>income</th>\n",
       "      <th>marital.status</th>\n",
       "      <th>native.country</th>\n",
       "      <th>occupation</th>\n",
       "      <th>race</th>\n",
       "      <th>relationship</th>\n",
       "      <th>sex</th>\n",
       "      <th>workclass</th>\n",
       "    </tr>\n",
       "  </thead>\n",
       "  <tbody>\n",
       "    <tr>\n",
       "      <th>0</th>\n",
       "      <td>12359</td>\n",
       "      <td>49</td>\n",
       "      <td>0</td>\n",
       "      <td>0</td>\n",
       "      <td>Masters</td>\n",
       "      <td>14</td>\n",
       "      <td>180532</td>\n",
       "      <td>40</td>\n",
       "      <td>0.0</td>\n",
       "      <td>Married-spouse-absent</td>\n",
       "      <td>United-States</td>\n",
       "      <td>Prof-specialty</td>\n",
       "      <td>White</td>\n",
       "      <td>Not-in-family</td>\n",
       "      <td>Male</td>\n",
       "      <td>Private</td>\n",
       "    </tr>\n",
       "    <tr>\n",
       "      <th>1</th>\n",
       "      <td>11680</td>\n",
       "      <td>35</td>\n",
       "      <td>0</td>\n",
       "      <td>0</td>\n",
       "      <td>HS-grad</td>\n",
       "      <td>9</td>\n",
       "      <td>308945</td>\n",
       "      <td>40</td>\n",
       "      <td>1.0</td>\n",
       "      <td>Married-civ-spouse</td>\n",
       "      <td>United-States</td>\n",
       "      <td>Craft-repair</td>\n",
       "      <td>White</td>\n",
       "      <td>Husband</td>\n",
       "      <td>Male</td>\n",
       "      <td>Local-gov</td>\n",
       "    </tr>\n",
       "  </tbody>\n",
       "</table>\n",
       "</div>"
      ],
      "text/plain": [
       "   Unnamed: 0  age  capital.gain  capital.loss education  education.num  \\\n",
       "0       12359   49             0             0   Masters             14   \n",
       "1       11680   35             0             0   HS-grad              9   \n",
       "\n",
       "   fnlwgt  hours.per.week  income         marital.status native.country  \\\n",
       "0  180532              40     0.0  Married-spouse-absent  United-States   \n",
       "1  308945              40     1.0     Married-civ-spouse  United-States   \n",
       "\n",
       "       occupation   race   relationship   sex  workclass  \n",
       "0  Prof-specialty  White  Not-in-family  Male    Private  \n",
       "1    Craft-repair  White        Husband  Male  Local-gov  "
      ]
     },
     "execution_count": 74,
     "metadata": {},
     "output_type": "execute_result"
    }
   ],
   "source": [
    "df.head(2)"
   ]
  },
  {
   "cell_type": "markdown",
   "metadata": {},
   "source": [
    "## Education.num"
   ]
  },
  {
   "cell_type": "code",
   "execution_count": 76,
   "metadata": {},
   "outputs": [
    {
     "data": {
      "text/plain": [
       "9     10459\n",
       "10     7276\n",
       "13     5340\n",
       "14     1715\n",
       "11     1378\n",
       "7      1172\n",
       "12     1065\n",
       "6       929\n",
       "4       634\n",
       "15      570\n",
       "5       512\n",
       "8       433\n",
       "16      412\n",
       "3       330\n",
       "2       164\n",
       "1        51\n",
       "Name: education.num, dtype: int64"
      ]
     },
     "execution_count": 76,
     "metadata": {},
     "output_type": "execute_result"
    }
   ],
   "source": [
    "df[\"education.num\"].value_counts()"
   ]
  },
  {
   "cell_type": "markdown",
   "metadata": {},
   "source": [
    "## fnlwgt"
   ]
  },
  {
   "cell_type": "code",
   "execution_count": 79,
   "metadata": {},
   "outputs": [
    {
     "data": {
      "text/plain": [
       "203488    13\n",
       "164190    13\n",
       "123011    13\n",
       "121124    12\n",
       "148995    12\n",
       "113364    12\n",
       "126675    12\n",
       "188246    11\n",
       "111483    11\n",
       "102308    11\n",
       "155659    11\n",
       "120131    11\n",
       "190290    11\n",
       "126569    11\n",
       "123983    11\n",
       "241998    11\n",
       "120277    11\n",
       "216129    10\n",
       "177675    10\n",
       "112497    10\n",
       "99185     10\n",
       "125892    10\n",
       "125933    10\n",
       "119793    10\n",
       "193882    10\n",
       "194630    10\n",
       "117963    10\n",
       "125461    10\n",
       "155489    10\n",
       "186934    10\n",
       "          ..\n",
       "138190     1\n",
       "227399     1\n",
       "216814     1\n",
       "147200     1\n",
       "62534      1\n",
       "52052      1\n",
       "89852      1\n",
       "222971     1\n",
       "345504     1\n",
       "147627     1\n",
       "38645      1\n",
       "302836     1\n",
       "403187     1\n",
       "275291     1\n",
       "81648      1\n",
       "144396     1\n",
       "377701     1\n",
       "263005     1\n",
       "124651     1\n",
       "325353     1\n",
       "193379     1\n",
       "235237     1\n",
       "215908     1\n",
       "339682     1\n",
       "243425     1\n",
       "159046     1\n",
       "118494     1\n",
       "167094     1\n",
       "57052      1\n",
       "229376     1\n",
       "Name: fnlwgt, Length: 21555, dtype: int64"
      ]
     },
     "execution_count": 79,
     "metadata": {},
     "output_type": "execute_result"
    }
   ],
   "source": [
    "df.fnlwgt.value_counts()"
   ]
  },
  {
   "cell_type": "code",
   "execution_count": 80,
   "metadata": {},
   "outputs": [
    {
     "data": {
      "text/html": [
       "<div>\n",
       "<style scoped>\n",
       "    .dataframe tbody tr th:only-of-type {\n",
       "        vertical-align: middle;\n",
       "    }\n",
       "\n",
       "    .dataframe tbody tr th {\n",
       "        vertical-align: top;\n",
       "    }\n",
       "\n",
       "    .dataframe thead th {\n",
       "        text-align: right;\n",
       "    }\n",
       "</style>\n",
       "<table border=\"1\" class=\"dataframe\">\n",
       "  <thead>\n",
       "    <tr style=\"text-align: right;\">\n",
       "      <th></th>\n",
       "      <th>Unnamed: 0</th>\n",
       "      <th>age</th>\n",
       "      <th>capital.gain</th>\n",
       "      <th>capital.loss</th>\n",
       "      <th>education</th>\n",
       "      <th>education.num</th>\n",
       "      <th>fnlwgt</th>\n",
       "      <th>hours.per.week</th>\n",
       "      <th>income</th>\n",
       "      <th>marital.status</th>\n",
       "      <th>native.country</th>\n",
       "      <th>occupation</th>\n",
       "      <th>race</th>\n",
       "      <th>relationship</th>\n",
       "      <th>sex</th>\n",
       "      <th>workclass</th>\n",
       "    </tr>\n",
       "  </thead>\n",
       "  <tbody>\n",
       "    <tr>\n",
       "      <th>0</th>\n",
       "      <td>12359</td>\n",
       "      <td>49</td>\n",
       "      <td>0</td>\n",
       "      <td>0</td>\n",
       "      <td>Masters</td>\n",
       "      <td>14</td>\n",
       "      <td>180532</td>\n",
       "      <td>40</td>\n",
       "      <td>0.0</td>\n",
       "      <td>Married-spouse-absent</td>\n",
       "      <td>United-States</td>\n",
       "      <td>Prof-specialty</td>\n",
       "      <td>White</td>\n",
       "      <td>Not-in-family</td>\n",
       "      <td>Male</td>\n",
       "      <td>Private</td>\n",
       "    </tr>\n",
       "    <tr>\n",
       "      <th>1</th>\n",
       "      <td>11680</td>\n",
       "      <td>35</td>\n",
       "      <td>0</td>\n",
       "      <td>0</td>\n",
       "      <td>HS-grad</td>\n",
       "      <td>9</td>\n",
       "      <td>308945</td>\n",
       "      <td>40</td>\n",
       "      <td>1.0</td>\n",
       "      <td>Married-civ-spouse</td>\n",
       "      <td>United-States</td>\n",
       "      <td>Craft-repair</td>\n",
       "      <td>White</td>\n",
       "      <td>Husband</td>\n",
       "      <td>Male</td>\n",
       "      <td>Local-gov</td>\n",
       "    </tr>\n",
       "  </tbody>\n",
       "</table>\n",
       "</div>"
      ],
      "text/plain": [
       "   Unnamed: 0  age  capital.gain  capital.loss education  education.num  \\\n",
       "0       12359   49             0             0   Masters             14   \n",
       "1       11680   35             0             0   HS-grad              9   \n",
       "\n",
       "   fnlwgt  hours.per.week  income         marital.status native.country  \\\n",
       "0  180532              40     0.0  Married-spouse-absent  United-States   \n",
       "1  308945              40     1.0     Married-civ-spouse  United-States   \n",
       "\n",
       "       occupation   race   relationship   sex  workclass  \n",
       "0  Prof-specialty  White  Not-in-family  Male    Private  \n",
       "1    Craft-repair  White        Husband  Male  Local-gov  "
      ]
     },
     "execution_count": 80,
     "metadata": {},
     "output_type": "execute_result"
    }
   ],
   "source": [
    "df.head(2)"
   ]
  },
  {
   "cell_type": "markdown",
   "metadata": {},
   "source": [
    "## Hours per week"
   ]
  },
  {
   "cell_type": "code",
   "execution_count": 83,
   "metadata": {},
   "outputs": [
    {
     "data": {
      "text/plain": [
       "40    15191\n",
       "50     2812\n",
       "45     1822\n",
       "60     1472\n",
       "35     1290\n",
       "20     1207\n",
       "30     1145\n",
       "55      691\n",
       "25      671\n",
       "48      517\n",
       "38      476\n",
       "15      399\n",
       "70      291\n",
       "10      271\n",
       "32      265\n",
       "24      247\n",
       "65      244\n",
       "36      220\n",
       "42      219\n",
       "44      212\n",
       "16      203\n",
       "12      172\n",
       "43      151\n",
       "37      148\n",
       "8       141\n",
       "52      138\n",
       "80      133\n",
       "56       97\n",
       "28       85\n",
       "99       84\n",
       "      ...  \n",
       "19       14\n",
       "64       14\n",
       "51       13\n",
       "85       13\n",
       "68       12\n",
       "98       11\n",
       "11       11\n",
       "63       10\n",
       "78        8\n",
       "29        7\n",
       "77        6\n",
       "59        5\n",
       "31        5\n",
       "96        5\n",
       "67        4\n",
       "91        3\n",
       "76        3\n",
       "81        3\n",
       "73        2\n",
       "89        2\n",
       "97        2\n",
       "88        2\n",
       "86        2\n",
       "61        2\n",
       "95        2\n",
       "92        1\n",
       "94        1\n",
       "87        1\n",
       "74        1\n",
       "82        1\n",
       "Name: hours.per.week, Length: 94, dtype: int64"
      ]
     },
     "execution_count": 83,
     "metadata": {},
     "output_type": "execute_result"
    }
   ],
   "source": [
    "df[\"hours.per.week\"].value_counts()"
   ]
  },
  {
   "cell_type": "code",
   "execution_count": 84,
   "metadata": {},
   "outputs": [
    {
     "data": {
      "text/plain": [
       "40.482059186189886"
      ]
     },
     "execution_count": 84,
     "metadata": {},
     "output_type": "execute_result"
    }
   ],
   "source": [
    "df[\"hours.per.week\"].mean()"
   ]
  },
  {
   "cell_type": "code",
   "execution_count": 85,
   "metadata": {},
   "outputs": [
    {
     "data": {
      "text/plain": [
       "<matplotlib.axes._subplots.AxesSubplot at 0x227c9cd0e80>"
      ]
     },
     "execution_count": 85,
     "metadata": {},
     "output_type": "execute_result"
    },
    {
     "data": {
      "image/png": "[encoded data removed]",
      "text/plain": [
       "<Figure size 432x288 with 1 Axes>"
      ]
     },
     "metadata": {
      "needs_background": "light"
     },
     "output_type": "display_data"
    }
   ],
   "source": [
    "sns.boxplot(df[\"hours.per.week\"])"
   ]
  },
  {
   "cell_type": "code",
   "execution_count": 87,
   "metadata": {},
   "outputs": [
    {
     "data": {
      "text/plain": [
       "([84,\n",
       "  2,\n",
       "  99,\n",
       "  90,\n",
       "  84,\n",
       "  80,\n",
       "  80,\n",
       "  99,\n",
       "  3,\n",
       "  86,\n",
       "  80,\n",
       "  80,\n",
       "  80,\n",
       "  80,\n",
       "  84,\n",
       "  84,\n",
       "  2,\n",
       "  80,\n",
       "  80,\n",
       "  2,\n",
       "  2,\n",
       "  80,\n",
       "  84,\n",
       "  84,\n",
       "  84,\n",
       "  80,\n",
       "  80,\n",
       "  99,\n",
       "  90,\n",
       "  3,\n",
       "  2,\n",
       "  96,\n",
       "  80,\n",
       "  3,\n",
       "  2,\n",
       "  80,\n",
       "  78,\n",
       "  1,\n",
       "  90,\n",
       "  99,\n",
       "  80,\n",
       "  80,\n",
       "  98,\n",
       "  78,\n",
       "  80,\n",
       "  99,\n",
       "  99,\n",
       "  99,\n",
       "  3,\n",
       "  99,\n",
       "  80,\n",
       "  84,\n",
       "  3,\n",
       "  99,\n",
       "  2,\n",
       "  84,\n",
       "  3,\n",
       "  1,\n",
       "  80,\n",
       "  99,\n",
       "  78,\n",
       "  90,\n",
       "  90,\n",
       "  80,\n",
       "  99,\n",
       "  80,\n",
       "  80,\n",
       "  91,\n",
       "  2,\n",
       "  80,\n",
       "  80,\n",
       "  99,\n",
       "  95,\n",
       "  2,\n",
       "  1,\n",
       "  88,\n",
       "  1,\n",
       "  99,\n",
       "  80,\n",
       "  80,\n",
       "  80,\n",
       "  80,\n",
       "  85,\n",
       "  90,\n",
       "  98,\n",
       "  80,\n",
       "  80,\n",
       "  99,\n",
       "  99,\n",
       "  98,\n",
       "  80,\n",
       "  80,\n",
       "  84,\n",
       "  84,\n",
       "  2,\n",
       "  99,\n",
       "  80,\n",
       "  99,\n",
       "  80,\n",
       "  85,\n",
       "  80,\n",
       "  2,\n",
       "  78,\n",
       "  80,\n",
       "  80,\n",
       "  3,\n",
       "  80,\n",
       "  80,\n",
       "  80,\n",
       "  90,\n",
       "  98,\n",
       "  80,\n",
       "  99,\n",
       "  2,\n",
       "  2,\n",
       "  80,\n",
       "  80,\n",
       "  99,\n",
       "  80,\n",
       "  99,\n",
       "  80,\n",
       "  84,\n",
       "  80,\n",
       "  80,\n",
       "  80,\n",
       "  80,\n",
       "  99,\n",
       "  80,\n",
       "  99,\n",
       "  99,\n",
       "  98,\n",
       "  3,\n",
       "  80,\n",
       "  91,\n",
       "  80,\n",
       "  78,\n",
       "  90,\n",
       "  78,\n",
       "  1,\n",
       "  3,\n",
       "  82,\n",
       "  3,\n",
       "  2,\n",
       "  80,\n",
       "  80,\n",
       "  99,\n",
       "  84,\n",
       "  84,\n",
       "  80,\n",
       "  1,\n",
       "  80,\n",
       "  90,\n",
       "  85,\n",
       "  3,\n",
       "  90,\n",
       "  80,\n",
       "  90,\n",
       "  90,\n",
       "  90,\n",
       "  80,\n",
       "  90,\n",
       "  80,\n",
       "  3,\n",
       "  99,\n",
       "  80,\n",
       "  3,\n",
       "  1,\n",
       "  99,\n",
       "  84,\n",
       "  98,\n",
       "  80,\n",
       "  96,\n",
       "  84,\n",
       "  3,\n",
       "  99,\n",
       "  80,\n",
       "  90,\n",
       "  80,\n",
       "  99,\n",
       "  84,\n",
       "  1,\n",
       "  85,\n",
       "  80,\n",
       "  80,\n",
       "  80,\n",
       "  99,\n",
       "  3,\n",
       "  3,\n",
       "  84,\n",
       "  2,\n",
       "  84,\n",
       "  3,\n",
       "  97,\n",
       "  90,\n",
       "  99,\n",
       "  2,\n",
       "  2,\n",
       "  3,\n",
       "  80,\n",
       "  78,\n",
       "  80,\n",
       "  3,\n",
       "  80,\n",
       "  84,\n",
       "  80,\n",
       "  85,\n",
       "  2,\n",
       "  80,\n",
       "  90,\n",
       "  99,\n",
       "  98,\n",
       "  99,\n",
       "  80,\n",
       "  80,\n",
       "  1,\n",
       "  99,\n",
       "  3,\n",
       "  2,\n",
       "  1,\n",
       "  99,\n",
       "  99,\n",
       "  99,\n",
       "  80,\n",
       "  99,\n",
       "  80,\n",
       "  2,\n",
       "  80,\n",
       "  84,\n",
       "  88,\n",
       "  99,\n",
       "  92,\n",
       "  3,\n",
       "  84,\n",
       "  80,\n",
       "  84,\n",
       "  80,\n",
       "  98,\n",
       "  2,\n",
       "  89,\n",
       "  80,\n",
       "  3,\n",
       "  80,\n",
       "  99,\n",
       "  84,\n",
       "  80,\n",
       "  80,\n",
       "  84,\n",
       "  99,\n",
       "  99,\n",
       "  1,\n",
       "  99,\n",
       "  90,\n",
       "  87,\n",
       "  1,\n",
       "  85,\n",
       "  90,\n",
       "  84,\n",
       "  80,\n",
       "  80,\n",
       "  98,\n",
       "  80,\n",
       "  80,\n",
       "  80,\n",
       "  80,\n",
       "  80,\n",
       "  99,\n",
       "  99,\n",
       "  80,\n",
       "  3,\n",
       "  99,\n",
       "  3,\n",
       "  80,\n",
       "  2,\n",
       "  99,\n",
       "  90,\n",
       "  1,\n",
       "  80,\n",
       "  85,\n",
       "  80,\n",
       "  90,\n",
       "  99,\n",
       "  99,\n",
       "  3,\n",
       "  84,\n",
       "  3,\n",
       "  3,\n",
       "  2,\n",
       "  2,\n",
       "  96,\n",
       "  90,\n",
       "  80,\n",
       "  99,\n",
       "  84,\n",
       "  99,\n",
       "  96,\n",
       "  84,\n",
       "  80,\n",
       "  99,\n",
       "  99,\n",
       "  90,\n",
       "  80,\n",
       "  85,\n",
       "  99,\n",
       "  99,\n",
       "  3,\n",
       "  80,\n",
       "  80,\n",
       "  80,\n",
       "  99,\n",
       "  1,\n",
       "  80,\n",
       "  80,\n",
       "  80,\n",
       "  80,\n",
       "  80,\n",
       "  2,\n",
       "  3,\n",
       "  96,\n",
       "  3,\n",
       "  85,\n",
       "  80,\n",
       "  2,\n",
       "  99,\n",
       "  80,\n",
       "  99,\n",
       "  78,\n",
       "  80,\n",
       "  80,\n",
       "  97,\n",
       "  94,\n",
       "  84,\n",
       "  99,\n",
       "  81,\n",
       "  3,\n",
       "  99,\n",
       "  80,\n",
       "  90,\n",
       "  99,\n",
       "  99,\n",
       "  80,\n",
       "  1,\n",
       "  99,\n",
       "  80,\n",
       "  90,\n",
       "  99,\n",
       "  85,\n",
       "  80,\n",
       "  80,\n",
       "  81,\n",
       "  98,\n",
       "  1,\n",
       "  80,\n",
       "  80,\n",
       "  80,\n",
       "  2,\n",
       "  99,\n",
       "  99,\n",
       "  1,\n",
       "  80,\n",
       "  3,\n",
       "  84,\n",
       "  3,\n",
       "  99,\n",
       "  90,\n",
       "  99,\n",
       "  84,\n",
       "  80,\n",
       "  90,\n",
       "  99,\n",
       "  80,\n",
       "  99,\n",
       "  99,\n",
       "  84,\n",
       "  84,\n",
       "  80,\n",
       "  80,\n",
       "  85,\n",
       "  80,\n",
       "  90,\n",
       "  80,\n",
       "  99,\n",
       "  99,\n",
       "  80,\n",
       "  85,\n",
       "  91,\n",
       "  84,\n",
       "  99,\n",
       "  80,\n",
       "  99,\n",
       "  84,\n",
       "  99,\n",
       "  80,\n",
       "  1,\n",
       "  80,\n",
       "  99,\n",
       "  99,\n",
       "  3,\n",
       "  81,\n",
       "  1,\n",
       "  99,\n",
       "  89,\n",
       "  98,\n",
       "  80,\n",
       "  84,\n",
       "  99,\n",
       "  84,\n",
       "  84,\n",
       "  80,\n",
       "  84,\n",
       "  84,\n",
       "  84,\n",
       "  80,\n",
       "  3,\n",
       "  84,\n",
       "  90,\n",
       "  84,\n",
       "  84,\n",
       "  2,\n",
       "  99,\n",
       "  95,\n",
       "  99,\n",
       "  80,\n",
       "  85,\n",
       "  80,\n",
       "  99,\n",
       "  86,\n",
       "  2,\n",
       "  99,\n",
       "  80,\n",
       "  80,\n",
       "  99,\n",
       "  2],\n",
       " 432)"
      ]
     },
     "execution_count": 87,
     "metadata": {},
     "output_type": "execute_result"
    }
   ],
   "source": [
    "outlier_det(df[\"hours.per.week\"])"
   ]
  },
  {
   "cell_type": "code",
   "execution_count": 91,
   "metadata": {},
   "outputs": [],
   "source": [
    "df=df[~df[\"hours.per.week\"].isin(outlier2)]"
   ]
  },
  {
   "cell_type": "code",
   "execution_count": 92,
   "metadata": {},
   "outputs": [
    {
     "data": {
      "text/plain": [
       "<matplotlib.axes._subplots.AxesSubplot at 0x227cdd81080>"
      ]
     },
     "execution_count": 92,
     "metadata": {},
     "output_type": "execute_result"
    },
    {
     "data": {
      "image/png": "[encoded data removed]",
      "text/plain": [
       "<Figure size 432x288 with 1 Axes>"
      ]
     },
     "metadata": {
      "needs_background": "light"
     },
     "output_type": "display_data"
    }
   ],
   "source": [
    "sns.boxplot(df[\"hours.per.week\"])"
   ]
  },
  {
   "cell_type": "code",
   "execution_count": 98,
   "metadata": {},
   "outputs": [
    {
     "data": {
      "text/plain": [
       "([10,\n",
       "  75,\n",
       "  70,\n",
       "  65,\n",
       "  12,\n",
       "  65,\n",
       "  70,\n",
       "  70,\n",
       "  8,\n",
       "  64,\n",
       "  75,\n",
       "  70,\n",
       "  11,\n",
       "  70,\n",
       "  8,\n",
       "  14,\n",
       "  64,\n",
       "  5,\n",
       "  4,\n",
       "  15,\n",
       "  13,\n",
       "  70,\n",
       "  10,\n",
       "  70,\n",
       "  15,\n",
       "  15,\n",
       "  72,\n",
       "  65,\n",
       "  12,\n",
       "  12,\n",
       "  70,\n",
       "  15,\n",
       "  10,\n",
       "  17,\n",
       "  70,\n",
       "  70,\n",
       "  5,\n",
       "  10,\n",
       "  70,\n",
       "  70,\n",
       "  8,\n",
       "  16,\n",
       "  6,\n",
       "  8,\n",
       "  65,\n",
       "  70,\n",
       "  15,\n",
       "  15,\n",
       "  75,\n",
       "  8,\n",
       "  77,\n",
       "  70,\n",
       "  10,\n",
       "  8,\n",
       "  70,\n",
       "  75,\n",
       "  16,\n",
       "  6,\n",
       "  16,\n",
       "  70,\n",
       "  16,\n",
       "  4,\n",
       "  10,\n",
       "  70,\n",
       "  10,\n",
       "  70,\n",
       "  65,\n",
       "  15,\n",
       "  5,\n",
       "  5,\n",
       "  12,\n",
       "  10,\n",
       "  15,\n",
       "  70,\n",
       "  17,\n",
       "  10,\n",
       "  8,\n",
       "  70,\n",
       "  10,\n",
       "  8,\n",
       "  15,\n",
       "  10,\n",
       "  15,\n",
       "  75,\n",
       "  6,\n",
       "  70,\n",
       "  70,\n",
       "  17,\n",
       "  70,\n",
       "  63,\n",
       "  10,\n",
       "  12,\n",
       "  16,\n",
       "  70,\n",
       "  70,\n",
       "  65,\n",
       "  10,\n",
       "  17,\n",
       "  16,\n",
       "  16,\n",
       "  16,\n",
       "  70,\n",
       "  6,\n",
       "  7,\n",
       "  75,\n",
       "  15,\n",
       "  72,\n",
       "  15,\n",
       "  65,\n",
       "  14,\n",
       "  14,\n",
       "  6,\n",
       "  12,\n",
       "  16,\n",
       "  16,\n",
       "  15,\n",
       "  12,\n",
       "  8,\n",
       "  6,\n",
       "  15,\n",
       "  70,\n",
       "  15,\n",
       "  15,\n",
       "  12,\n",
       "  70,\n",
       "  16,\n",
       "  10,\n",
       "  12,\n",
       "  75,\n",
       "  65,\n",
       "  70,\n",
       "  4,\n",
       "  65,\n",
       "  4,\n",
       "  16,\n",
       "  16,\n",
       "  65,\n",
       "  75,\n",
       "  4,\n",
       "  15,\n",
       "  15,\n",
       "  8,\n",
       "  6,\n",
       "  12,\n",
       "  72,\n",
       "  16,\n",
       "  10,\n",
       "  10,\n",
       "  15,\n",
       "  15,\n",
       "  70,\n",
       "  10,\n",
       "  70,\n",
       "  16,\n",
       "  65,\n",
       "  15,\n",
       "  65,\n",
       "  65,\n",
       "  10,\n",
       "  65,\n",
       "  12,\n",
       "  15,\n",
       "  15,\n",
       "  10,\n",
       "  12,\n",
       "  17,\n",
       "  75,\n",
       "  16,\n",
       "  64,\n",
       "  15,\n",
       "  15,\n",
       "  9,\n",
       "  15,\n",
       "  65,\n",
       "  8,\n",
       "  6,\n",
       "  75,\n",
       "  7,\n",
       "  9,\n",
       "  72,\n",
       "  65,\n",
       "  10,\n",
       "  70,\n",
       "  70,\n",
       "  10,\n",
       "  16,\n",
       "  75,\n",
       "  15,\n",
       "  76,\n",
       "  10,\n",
       "  15,\n",
       "  8,\n",
       "  16,\n",
       "  8,\n",
       "  5,\n",
       "  15,\n",
       "  16,\n",
       "  10,\n",
       "  75,\n",
       "  8,\n",
       "  75,\n",
       "  15,\n",
       "  10,\n",
       "  70,\n",
       "  16,\n",
       "  10,\n",
       "  15,\n",
       "  15,\n",
       "  75,\n",
       "  15,\n",
       "  4,\n",
       "  15,\n",
       "  6,\n",
       "  14,\n",
       "  14,\n",
       "  16,\n",
       "  70,\n",
       "  10,\n",
       "  15,\n",
       "  12,\n",
       "  12,\n",
       "  8,\n",
       "  15,\n",
       "  8,\n",
       "  5,\n",
       "  12,\n",
       "  14,\n",
       "  14,\n",
       "  15,\n",
       "  15,\n",
       "  65,\n",
       "  16,\n",
       "  65,\n",
       "  8,\n",
       "  65,\n",
       "  70,\n",
       "  8,\n",
       "  15,\n",
       "  16,\n",
       "  15,\n",
       "  65,\n",
       "  65,\n",
       "  5,\n",
       "  70,\n",
       "  70,\n",
       "  65,\n",
       "  15,\n",
       "  16,\n",
       "  70,\n",
       "  65,\n",
       "  15,\n",
       "  15,\n",
       "  65,\n",
       "  15,\n",
       "  65,\n",
       "  6,\n",
       "  12,\n",
       "  70,\n",
       "  7,\n",
       "  15,\n",
       "  65,\n",
       "  70,\n",
       "  10,\n",
       "  16,\n",
       "  17,\n",
       "  16,\n",
       "  8,\n",
       "  75,\n",
       "  15,\n",
       "  70,\n",
       "  15,\n",
       "  72,\n",
       "  16,\n",
       "  70,\n",
       "  8,\n",
       "  8,\n",
       "  17,\n",
       "  6,\n",
       "  70,\n",
       "  16,\n",
       "  15,\n",
       "  15,\n",
       "  70,\n",
       "  12,\n",
       "  8,\n",
       "  15,\n",
       "  15,\n",
       "  9,\n",
       "  15,\n",
       "  16,\n",
       "  10,\n",
       "  10,\n",
       "  4,\n",
       "  17,\n",
       "  12,\n",
       "  15,\n",
       "  12,\n",
       "  12,\n",
       "  15,\n",
       "  6,\n",
       "  70,\n",
       "  10,\n",
       "  75,\n",
       "  16,\n",
       "  10,\n",
       "  15,\n",
       "  8,\n",
       "  15,\n",
       "  70,\n",
       "  12,\n",
       "  13,\n",
       "  16,\n",
       "  75,\n",
       "  5,\n",
       "  12,\n",
       "  70,\n",
       "  10,\n",
       "  15,\n",
       "  8,\n",
       "  65,\n",
       "  16,\n",
       "  70,\n",
       "  10,\n",
       "  8,\n",
       "  76,\n",
       "  70,\n",
       "  15,\n",
       "  15,\n",
       "  72,\n",
       "  65,\n",
       "  16,\n",
       "  65,\n",
       "  15,\n",
       "  16,\n",
       "  70,\n",
       "  65,\n",
       "  10,\n",
       "  5,\n",
       "  70,\n",
       "  65,\n",
       "  15,\n",
       "  8,\n",
       "  70,\n",
       "  70,\n",
       "  16,\n",
       "  15,\n",
       "  75,\n",
       "  8,\n",
       "  13,\n",
       "  15,\n",
       "  12,\n",
       "  72,\n",
       "  12,\n",
       "  10,\n",
       "  10,\n",
       "  15,\n",
       "  7,\n",
       "  70,\n",
       "  65,\n",
       "  12,\n",
       "  15,\n",
       "  65,\n",
       "  16,\n",
       "  75,\n",
       "  70,\n",
       "  8,\n",
       "  65,\n",
       "  8,\n",
       "  65,\n",
       "  70,\n",
       "  8,\n",
       "  8,\n",
       "  15,\n",
       "  8,\n",
       "  70,\n",
       "  15,\n",
       "  65,\n",
       "  65,\n",
       "  70,\n",
       "  14,\n",
       "  4,\n",
       "  64,\n",
       "  16,\n",
       "  10,\n",
       "  12,\n",
       "  70,\n",
       "  10,\n",
       "  70,\n",
       "  10,\n",
       "  10,\n",
       "  70,\n",
       "  65,\n",
       "  72,\n",
       "  12,\n",
       "  65,\n",
       "  66,\n",
       "  75,\n",
       "  65,\n",
       "  65,\n",
       "  15,\n",
       "  72,\n",
       "  15,\n",
       "  65,\n",
       "  5,\n",
       "  65,\n",
       "  70,\n",
       "  8,\n",
       "  70,\n",
       "  70,\n",
       "  65,\n",
       "  65,\n",
       "  72,\n",
       "  16,\n",
       "  10,\n",
       "  10,\n",
       "  12,\n",
       "  8,\n",
       "  17,\n",
       "  15,\n",
       "  10,\n",
       "  70,\n",
       "  8,\n",
       "  10,\n",
       "  12,\n",
       "  65,\n",
       "  72,\n",
       "  12,\n",
       "  5,\n",
       "  8,\n",
       "  72,\n",
       "  15,\n",
       "  70,\n",
       "  75,\n",
       "  6,\n",
       "  16,\n",
       "  70,\n",
       "  10,\n",
       "  16,\n",
       "  15,\n",
       "  63,\n",
       "  65,\n",
       "  65,\n",
       "  65,\n",
       "  12,\n",
       "  5,\n",
       "  14,\n",
       "  70,\n",
       "  65,\n",
       "  15,\n",
       "  65,\n",
       "  16,\n",
       "  12,\n",
       "  70,\n",
       "  10,\n",
       "  15,\n",
       "  10,\n",
       "  15,\n",
       "  12,\n",
       "  6,\n",
       "  16,\n",
       "  10,\n",
       "  12,\n",
       "  10,\n",
       "  65,\n",
       "  6,\n",
       "  70,\n",
       "  4,\n",
       "  16,\n",
       "  8,\n",
       "  8,\n",
       "  70,\n",
       "  65,\n",
       "  10,\n",
       "  12,\n",
       "  17,\n",
       "  72,\n",
       "  65,\n",
       "  65,\n",
       "  70,\n",
       "  70,\n",
       "  10,\n",
       "  8,\n",
       "  65,\n",
       "  16,\n",
       "  70,\n",
       "  12,\n",
       "  70,\n",
       "  4,\n",
       "  9,\n",
       "  15,\n",
       "  65,\n",
       "  8,\n",
       "  15,\n",
       "  16,\n",
       "  16,\n",
       "  75,\n",
       "  70,\n",
       "  15,\n",
       "  70,\n",
       "  10,\n",
       "  15,\n",
       "  15,\n",
       "  11,\n",
       "  15,\n",
       "  65,\n",
       "  65,\n",
       "  6,\n",
       "  16,\n",
       "  16,\n",
       "  16,\n",
       "  17,\n",
       "  72,\n",
       "  15,\n",
       "  70,\n",
       "  72,\n",
       "  16,\n",
       "  14,\n",
       "  65,\n",
       "  70,\n",
       "  15,\n",
       "  8,\n",
       "  16,\n",
       "  11,\n",
       "  12,\n",
       "  16,\n",
       "  15,\n",
       "  15,\n",
       "  65,\n",
       "  8,\n",
       "  10,\n",
       "  16,\n",
       "  63,\n",
       "  15,\n",
       "  12,\n",
       "  8,\n",
       "  14,\n",
       "  15,\n",
       "  12,\n",
       "  15,\n",
       "  15,\n",
       "  15,\n",
       "  65,\n",
       "  16,\n",
       "  4,\n",
       "  15,\n",
       "  12,\n",
       "  72,\n",
       "  66,\n",
       "  15,\n",
       "  14,\n",
       "  72,\n",
       "  70,\n",
       "  4,\n",
       "  15,\n",
       "  5,\n",
       "  70,\n",
       "  70,\n",
       "  14,\n",
       "  64,\n",
       "  70,\n",
       "  17,\n",
       "  15,\n",
       "  10,\n",
       "  70,\n",
       "  65,\n",
       "  8,\n",
       "  75,\n",
       "  15,\n",
       "  65,\n",
       "  12,\n",
       "  65,\n",
       "  70,\n",
       "  12,\n",
       "  12,\n",
       "  15,\n",
       "  15,\n",
       "  8,\n",
       "  15,\n",
       "  5,\n",
       "  15,\n",
       "  6,\n",
       "  15,\n",
       "  16,\n",
       "  70,\n",
       "  16,\n",
       "  16,\n",
       "  67,\n",
       "  12,\n",
       "  15,\n",
       "  75,\n",
       "  15,\n",
       "  15,\n",
       "  68,\n",
       "  75,\n",
       "  64,\n",
       "  70,\n",
       "  10,\n",
       "  10,\n",
       "  10,\n",
       "  16,\n",
       "  7,\n",
       "  12,\n",
       "  9,\n",
       "  65,\n",
       "  15,\n",
       "  12,\n",
       "  70,\n",
       "  65,\n",
       "  70,\n",
       "  16,\n",
       "  16,\n",
       "  65,\n",
       "  7,\n",
       "  4,\n",
       "  5,\n",
       "  15,\n",
       "  70,\n",
       "  65,\n",
       "  6,\n",
       "  5,\n",
       "  65,\n",
       "  16,\n",
       "  10,\n",
       "  16,\n",
       "  70,\n",
       "  70,\n",
       "  70,\n",
       "  8,\n",
       "  70,\n",
       "  65,\n",
       "  15,\n",
       "  70,\n",
       "  70,\n",
       "  10,\n",
       "  72,\n",
       "  15,\n",
       "  65,\n",
       "  10,\n",
       "  14,\n",
       "  72,\n",
       "  15,\n",
       "  70,\n",
       "  12,\n",
       "  8,\n",
       "  15,\n",
       "  15,\n",
       "  70,\n",
       "  15,\n",
       "  12,\n",
       "  65,\n",
       "  70,\n",
       "  10,\n",
       "  65,\n",
       "  72,\n",
       "  70,\n",
       "  15,\n",
       "  10,\n",
       "  65,\n",
       "  65,\n",
       "  10,\n",
       "  65,\n",
       "  65,\n",
       "  9,\n",
       "  15,\n",
       "  75,\n",
       "  70,\n",
       "  8,\n",
       "  17,\n",
       "  4,\n",
       "  65,\n",
       "  10,\n",
       "  5,\n",
       "  12,\n",
       "  12,\n",
       "  16,\n",
       "  17,\n",
       "  7,\n",
       "  10,\n",
       "  65,\n",
       "  16,\n",
       "  75,\n",
       "  15,\n",
       "  66,\n",
       "  65,\n",
       "  65,\n",
       "  70,\n",
       "  8,\n",
       "  12,\n",
       "  10,\n",
       "  67,\n",
       "  70,\n",
       "  70,\n",
       "  4,\n",
       "  15,\n",
       "  6,\n",
       "  70,\n",
       "  65,\n",
       "  15,\n",
       "  10,\n",
       "  15,\n",
       "  6,\n",
       "  12,\n",
       "  75,\n",
       "  10,\n",
       "  15,\n",
       "  16,\n",
       "  14,\n",
       "  65,\n",
       "  6,\n",
       "  15,\n",
       "  10,\n",
       "  12,\n",
       "  70,\n",
       "  15,\n",
       "  70,\n",
       "  15,\n",
       "  15,\n",
       "  70,\n",
       "  5,\n",
       "  10,\n",
       "  14,\n",
       "  65,\n",
       "  70,\n",
       "  70,\n",
       "  65,\n",
       "  12,\n",
       "  70,\n",
       "  16,\n",
       "  8,\n",
       "  6,\n",
       "  13,\n",
       "  70,\n",
       "  66,\n",
       "  70,\n",
       "  4,\n",
       "  15,\n",
       "  12,\n",
       "  70,\n",
       "  8,\n",
       "  16,\n",
       "  12,\n",
       "  70,\n",
       "  15,\n",
       "  15,\n",
       "  8,\n",
       "  10,\n",
       "  75,\n",
       "  72,\n",
       "  14,\n",
       "  6,\n",
       "  10,\n",
       "  17,\n",
       "  16,\n",
       "  70,\n",
       "  70,\n",
       "  15,\n",
       "  65,\n",
       "  70,\n",
       "  7,\n",
       "  13,\n",
       "  65,\n",
       "  65,\n",
       "  65,\n",
       "  10,\n",
       "  15,\n",
       "  72,\n",
       "  65,\n",
       "  15,\n",
       "  70,\n",
       "  10,\n",
       "  10,\n",
       "  15,\n",
       "  12,\n",
       "  70,\n",
       "  8,\n",
       "  7,\n",
       "  75,\n",
       "  72,\n",
       "  4,\n",
       "  73,\n",
       "  15,\n",
       "  72,\n",
       "  15,\n",
       "  17,\n",
       "  70,\n",
       "  75,\n",
       "  12,\n",
       "  13,\n",
       "  5,\n",
       "  4,\n",
       "  15,\n",
       "  75,\n",
       "  15,\n",
       "  65,\n",
       "  16,\n",
       "  15,\n",
       "  15,\n",
       "  16,\n",
       "  9,\n",
       "  15,\n",
       "  65,\n",
       "  7,\n",
       "  16,\n",
       "  6,\n",
       "  12,\n",
       "  10,\n",
       "  65,\n",
       "  15,\n",
       "  8,\n",
       "  65,\n",
       "  65,\n",
       "  15,\n",
       "  15,\n",
       "  10,\n",
       "  65,\n",
       "  15,\n",
       "  70,\n",
       "  10,\n",
       "  4,\n",
       "  10,\n",
       "  8,\n",
       "  15,\n",
       "  15,\n",
       "  72,\n",
       "  10,\n",
       "  65,\n",
       "  10,\n",
       "  16,\n",
       "  16,\n",
       "  75,\n",
       "  15,\n",
       "  65,\n",
       "  15,\n",
       "  15,\n",
       "  6,\n",
       "  12,\n",
       "  66,\n",
       "  15,\n",
       "  16,\n",
       "  65,\n",
       "  15,\n",
       "  8,\n",
       "  65,\n",
       "  70,\n",
       "  15,\n",
       "  15,\n",
       "  4,\n",
       "  10,\n",
       "  15,\n",
       "  75,\n",
       "  15,\n",
       "  70,\n",
       "  8,\n",
       "  70,\n",
       "  10,\n",
       "  15,\n",
       "  15,\n",
       "  8,\n",
       "  7,\n",
       "  15,\n",
       "  70,\n",
       "  65,\n",
       "  14,\n",
       "  10,\n",
       "  12,\n",
       "  10,\n",
       "  68,\n",
       "  65,\n",
       "  65,\n",
       "  15,\n",
       "  12,\n",
       "  12,\n",
       "  9,\n",
       "  10,\n",
       "  8,\n",
       "  15,\n",
       "  8,\n",
       "  65,\n",
       "  10,\n",
       "  15,\n",
       "  8,\n",
       "  8,\n",
       "  8,\n",
       "  16,\n",
       "  16,\n",
       "  10,\n",
       "  70,\n",
       "  16,\n",
       "  75,\n",
       "  66,\n",
       "  65,\n",
       "  72,\n",
       "  8,\n",
       "  16,\n",
       "  65,\n",
       "  15,\n",
       "  15,\n",
       "  70,\n",
       "  16,\n",
       "  12,\n",
       "  70,\n",
       "  15,\n",
       "  10,\n",
       "  10,\n",
       "  75,\n",
       "  10,\n",
       "  4,\n",
       "  15,\n",
       "  65,\n",
       "  12,\n",
       "  9,\n",
       "  70,\n",
       "  8,\n",
       "  15,\n",
       "  65,\n",
       "  15,\n",
       "  12,\n",
       "  15,\n",
       "  75,\n",
       "  16,\n",
       "  65,\n",
       "  70,\n",
       "  70,\n",
       "  12,\n",
       "  70,\n",
       "  10,\n",
       "  10,\n",
       "  12,\n",
       "  16,\n",
       "  15,\n",
       "  16,\n",
       "  16,\n",
       "  65,\n",
       "  65,\n",
       "  10,\n",
       "  10,\n",
       "  70,\n",
       "  6,\n",
       "  12,\n",
       "  4,\n",
       "  15,\n",
       "  15,\n",
       "  15,\n",
       "  65,\n",
       "  65,\n",
       "  10,\n",
       "  10,\n",
       "  65,\n",
       "  10,\n",
       "  15,\n",
       "  15,\n",
       "  5,\n",
       "  70,\n",
       "  10,\n",
       "  70,\n",
       "  8,\n",
       "  70,\n",
       "  65,\n",
       "  15,\n",
       "  17,\n",
       "  16,\n",
       "  72,\n",
       "  5,\n",
       "  72,\n",
       "  65,\n",
       "  12,\n",
       "  16,\n",
       "  70,\n",
       "  10,\n",
       "  15,\n",
       "  72,\n",
       "  70,\n",
       "  68,\n",
       "  5,\n",
       "  14,\n",
       "  75,\n",
       "  7,\n",
       "  6,\n",
       "  15,\n",
       "  12,\n",
       "  10,\n",
       "  8,\n",
       "  6,\n",
       "  8,\n",
       "  4,\n",
       "  70,\n",
       "  17,\n",
       "  16,\n",
       "  75,\n",
       "  6,\n",
       "  16,\n",
       "  10,\n",
       "  16,\n",
       "  15,\n",
       "  15,\n",
       "  70,\n",
       "  16,\n",
       "  10,\n",
       "  70,\n",
       "  65,\n",
       "  ...],\n",
       " 2236)"
      ]
     },
     "execution_count": 98,
     "metadata": {},
     "output_type": "execute_result"
    }
   ],
   "source": [
    "outlier_det(df[\"hours.per.week\"],2)"
   ]
  },
  {
   "cell_type": "code",
   "execution_count": 101,
   "metadata": {},
   "outputs": [],
   "source": [
    "df=df[~df[\"hours.per.week\"].isin(outlier3)]"
   ]
  },
  {
   "cell_type": "code",
   "execution_count": 102,
   "metadata": {},
   "outputs": [
    {
     "data": {
      "text/plain": [
       "<matplotlib.axes._subplots.AxesSubplot at 0x227cda67f60>"
      ]
     },
     "execution_count": 102,
     "metadata": {},
     "output_type": "execute_result"
    },
    {
     "data": {
      "image/png": "[encoded data removed]",
      "text/plain": [
       "<Figure size 432x288 with 1 Axes>"
      ]
     },
     "metadata": {
      "needs_background": "light"
     },
     "output_type": "display_data"
    }
   ],
   "source": [
    "sns.boxplot(df[\"hours.per.week\"])"
   ]
  },
  {
   "cell_type": "code",
   "execution_count": 103,
   "metadata": {},
   "outputs": [
    {
     "data": {
      "text/html": [
       "<div>\n",
       "<style scoped>\n",
       "    .dataframe tbody tr th:only-of-type {\n",
       "        vertical-align: middle;\n",
       "    }\n",
       "\n",
       "    .dataframe tbody tr th {\n",
       "        vertical-align: top;\n",
       "    }\n",
       "\n",
       "    .dataframe thead th {\n",
       "        text-align: right;\n",
       "    }\n",
       "</style>\n",
       "<table border=\"1\" class=\"dataframe\">\n",
       "  <thead>\n",
       "    <tr style=\"text-align: right;\">\n",
       "      <th></th>\n",
       "      <th>Unnamed: 0</th>\n",
       "      <th>age</th>\n",
       "      <th>capital.gain</th>\n",
       "      <th>capital.loss</th>\n",
       "      <th>education</th>\n",
       "      <th>education.num</th>\n",
       "      <th>fnlwgt</th>\n",
       "      <th>hours.per.week</th>\n",
       "      <th>income</th>\n",
       "      <th>marital.status</th>\n",
       "      <th>native.country</th>\n",
       "      <th>occupation</th>\n",
       "      <th>race</th>\n",
       "      <th>relationship</th>\n",
       "      <th>sex</th>\n",
       "      <th>workclass</th>\n",
       "    </tr>\n",
       "  </thead>\n",
       "  <tbody>\n",
       "    <tr>\n",
       "      <th>0</th>\n",
       "      <td>12359</td>\n",
       "      <td>49</td>\n",
       "      <td>0</td>\n",
       "      <td>0</td>\n",
       "      <td>Masters</td>\n",
       "      <td>14</td>\n",
       "      <td>180532</td>\n",
       "      <td>40</td>\n",
       "      <td>0.0</td>\n",
       "      <td>Married-spouse-absent</td>\n",
       "      <td>United-States</td>\n",
       "      <td>Prof-specialty</td>\n",
       "      <td>White</td>\n",
       "      <td>Not-in-family</td>\n",
       "      <td>Male</td>\n",
       "      <td>Private</td>\n",
       "    </tr>\n",
       "    <tr>\n",
       "      <th>1</th>\n",
       "      <td>11680</td>\n",
       "      <td>35</td>\n",
       "      <td>0</td>\n",
       "      <td>0</td>\n",
       "      <td>HS-grad</td>\n",
       "      <td>9</td>\n",
       "      <td>308945</td>\n",
       "      <td>40</td>\n",
       "      <td>1.0</td>\n",
       "      <td>Married-civ-spouse</td>\n",
       "      <td>United-States</td>\n",
       "      <td>Craft-repair</td>\n",
       "      <td>White</td>\n",
       "      <td>Husband</td>\n",
       "      <td>Male</td>\n",
       "      <td>Local-gov</td>\n",
       "    </tr>\n",
       "    <tr>\n",
       "      <th>2</th>\n",
       "      <td>13682</td>\n",
       "      <td>28</td>\n",
       "      <td>0</td>\n",
       "      <td>0</td>\n",
       "      <td>Bachelors</td>\n",
       "      <td>13</td>\n",
       "      <td>47907</td>\n",
       "      <td>40</td>\n",
       "      <td>0.0</td>\n",
       "      <td>Never-married</td>\n",
       "      <td>United-States</td>\n",
       "      <td>Adm-clerical</td>\n",
       "      <td>White</td>\n",
       "      <td>Not-in-family</td>\n",
       "      <td>Female</td>\n",
       "      <td>Private</td>\n",
       "    </tr>\n",
       "    <tr>\n",
       "      <th>3</th>\n",
       "      <td>8807</td>\n",
       "      <td>32</td>\n",
       "      <td>0</td>\n",
       "      <td>0</td>\n",
       "      <td>HS-grad</td>\n",
       "      <td>9</td>\n",
       "      <td>198068</td>\n",
       "      <td>60</td>\n",
       "      <td>0.0</td>\n",
       "      <td>Never-married</td>\n",
       "      <td>United-States</td>\n",
       "      <td>Transport-moving</td>\n",
       "      <td>White</td>\n",
       "      <td>Not-in-family</td>\n",
       "      <td>Male</td>\n",
       "      <td>Private</td>\n",
       "    </tr>\n",
       "    <tr>\n",
       "      <th>4</th>\n",
       "      <td>16644</td>\n",
       "      <td>23</td>\n",
       "      <td>0</td>\n",
       "      <td>0</td>\n",
       "      <td>HS-grad</td>\n",
       "      <td>9</td>\n",
       "      <td>192978</td>\n",
       "      <td>40</td>\n",
       "      <td>0.0</td>\n",
       "      <td>Married-civ-spouse</td>\n",
       "      <td>United-States</td>\n",
       "      <td>Handlers-cleaners</td>\n",
       "      <td>White</td>\n",
       "      <td>Husband</td>\n",
       "      <td>Male</td>\n",
       "      <td>Private</td>\n",
       "    </tr>\n",
       "  </tbody>\n",
       "</table>\n",
       "</div>"
      ],
      "text/plain": [
       "   Unnamed: 0  age  capital.gain  capital.loss  education  education.num  \\\n",
       "0       12359   49             0             0    Masters             14   \n",
       "1       11680   35             0             0    HS-grad              9   \n",
       "2       13682   28             0             0  Bachelors             13   \n",
       "3        8807   32             0             0    HS-grad              9   \n",
       "4       16644   23             0             0    HS-grad              9   \n",
       "\n",
       "   fnlwgt  hours.per.week  income         marital.status native.country  \\\n",
       "0  180532              40     0.0  Married-spouse-absent  United-States   \n",
       "1  308945              40     1.0     Married-civ-spouse  United-States   \n",
       "2   47907              40     0.0          Never-married  United-States   \n",
       "3  198068              60     0.0          Never-married  United-States   \n",
       "4  192978              40     0.0     Married-civ-spouse  United-States   \n",
       "\n",
       "          occupation   race   relationship     sex  workclass  \n",
       "0     Prof-specialty  White  Not-in-family    Male    Private  \n",
       "1       Craft-repair  White        Husband    Male  Local-gov  \n",
       "2       Adm-clerical  White  Not-in-family  Female    Private  \n",
       "3   Transport-moving  White  Not-in-family    Male    Private  \n",
       "4  Handlers-cleaners  White        Husband    Male    Private  "
      ]
     },
     "execution_count": 103,
     "metadata": {},
     "output_type": "execute_result"
    }
   ],
   "source": [
    "df.head()"
   ]
  },
  {
   "cell_type": "markdown",
   "metadata": {},
   "source": [
    "## Marital Status"
   ]
  },
  {
   "cell_type": "code",
   "execution_count": 105,
   "metadata": {},
   "outputs": [
    {
     "data": {
      "text/plain": [
       "Married-civ-spouse       13832\n",
       "Never-married             9583\n",
       "Divorced                  4187\n",
       "Separated                  970\n",
       "Widowed                    793\n",
       "Married-spouse-absent      389\n",
       "Married-AF-spouse           18\n",
       "Name: marital.status, dtype: int64"
      ]
     },
     "execution_count": 105,
     "metadata": {},
     "output_type": "execute_result"
    }
   ],
   "source": [
    "df[\"marital.status\"].value_counts()"
   ]
  },
  {
   "cell_type": "markdown",
   "metadata": {},
   "source": [
    "## Country"
   ]
  },
  {
   "cell_type": "code",
   "execution_count": 107,
   "metadata": {},
   "outputs": [
    {
     "data": {
      "text/plain": [
       "United-States                 26645\n",
       "Mexico                          604\n",
       "?                               531\n",
       "Philippines                     185\n",
       "Germany                         123\n",
       "Canada                          108\n",
       "Puerto-Rico                     107\n",
       "El-Salvador                     100\n",
       "India                            94\n",
       "Cuba                             88\n",
       "England                          81\n",
       "Jamaica                          78\n",
       "China                            70\n",
       "Dominican-Republic               66\n",
       "South                            66\n",
       "Italy                            64\n",
       "Guatemala                        64\n",
       "Vietnam                          61\n",
       "Columbia                         58\n",
       "Japan                            55\n",
       "Poland                           53\n",
       "Taiwan                           44\n",
       "Haiti                            40\n",
       "Iran                             40\n",
       "Portugal                         36\n",
       "Nicaragua                        33\n",
       "Peru                             29\n",
       "France                           26\n",
       "Ecuador                          26\n",
       "Ireland                          24\n",
       "Greece                           24\n",
       "Hong                             19\n",
       "Cambodia                         19\n",
       "Laos                             18\n",
       "Trinadad&Tobago                  17\n",
       "Outlying-US(Guam-USVI-etc)       14\n",
       "Yugoslavia                       14\n",
       "Honduras                         12\n",
       "Thailand                         12\n",
       "Scotland                         12\n",
       "Hungary                          11\n",
       "Holand-Netherlands                1\n",
       "Name: native.country, dtype: int64"
      ]
     },
     "execution_count": 107,
     "metadata": {},
     "output_type": "execute_result"
    }
   ],
   "source": [
    "df[\"native.country\"].value_counts()"
   ]
  },
  {
   "cell_type": "markdown",
   "metadata": {},
   "source": [
    "## occupation"
   ]
  },
  {
   "cell_type": "code",
   "execution_count": 108,
   "metadata": {},
   "outputs": [
    {
     "data": {
      "text/plain": [
       "Craft-repair         3935\n",
       "Prof-specialty       3792\n",
       "Exec-managerial      3782\n",
       "Adm-clerical         3535\n",
       "Sales                3313\n",
       "Other-service        2899\n",
       "Machine-op-inspct    1942\n",
       "?                    1462\n",
       "Transport-moving     1454\n",
       "Handlers-cleaners    1272\n",
       "Tech-support          871\n",
       "Farming-fishing       800\n",
       "Protective-serv       592\n",
       "Priv-house-serv       115\n",
       "Armed-Forces            8\n",
       "Name: occupation, dtype: int64"
      ]
     },
     "execution_count": 108,
     "metadata": {},
     "output_type": "execute_result"
    }
   ],
   "source": [
    "df.occupation.value_counts()"
   ]
  },
  {
   "cell_type": "code",
   "execution_count": 114,
   "metadata": {},
   "outputs": [],
   "source": [
    "df.occupation=df.occupation.transform(lambda x:x.replace(\"?\",\"other\"))"
   ]
  },
  {
   "cell_type": "markdown",
   "metadata": {},
   "source": [
    "## Race"
   ]
  },
  {
   "cell_type": "code",
   "execution_count": 115,
   "metadata": {},
   "outputs": [
    {
     "data": {
      "text/plain": [
       "White                 25326\n",
       "Black                  2955\n",
       "Asian-Pac-Islander      947\n",
       "Amer-Indian-Eskimo      288\n",
       "Other                   256\n",
       "Name: race, dtype: int64"
      ]
     },
     "execution_count": 115,
     "metadata": {},
     "output_type": "execute_result"
    }
   ],
   "source": [
    "df.race.value_counts()"
   ]
  },
  {
   "cell_type": "markdown",
   "metadata": {},
   "source": [
    "## Relationship"
   ]
  },
  {
   "cell_type": "code",
   "execution_count": 116,
   "metadata": {},
   "outputs": [
    {
     "data": {
      "text/plain": [
       "Husband           12205\n",
       "Not-in-family      7656\n",
       "Own-child          4336\n",
       "Unmarried          3247\n",
       "Wife               1428\n",
       "Other-relative      900\n",
       "Name: relationship, dtype: int64"
      ]
     },
     "execution_count": 116,
     "metadata": {},
     "output_type": "execute_result"
    }
   ],
   "source": [
    "df.relationship.value_counts()"
   ]
  },
  {
   "cell_type": "markdown",
   "metadata": {},
   "source": [
    "## Gender"
   ]
  },
  {
   "cell_type": "code",
   "execution_count": 117,
   "metadata": {},
   "outputs": [
    {
     "data": {
      "text/plain": [
       "Male      20052\n",
       "Female     9720\n",
       "Name: sex, dtype: int64"
      ]
     },
     "execution_count": 117,
     "metadata": {},
     "output_type": "execute_result"
    }
   ],
   "source": [
    "df.sex.value_counts()"
   ]
  },
  {
   "cell_type": "markdown",
   "metadata": {},
   "source": [
    "## Workclass"
   ]
  },
  {
   "cell_type": "code",
   "execution_count": 121,
   "metadata": {},
   "outputs": [
    {
     "data": {
      "text/plain": [
       "Private             21159\n",
       "Self-emp-not-inc     2113\n",
       "Local-gov            1963\n",
       "?                    1457\n",
       "State-gov            1179\n",
       "Self-emp-inc          967\n",
       "Federal-gov           919\n",
       "Without-pay            10\n",
       "Never-worked            5\n",
       "Name: workclass, dtype: int64"
      ]
     },
     "execution_count": 121,
     "metadata": {},
     "output_type": "execute_result"
    }
   ],
   "source": [
    "df.workclass.value_counts()"
   ]
  },
  {
   "cell_type": "code",
   "execution_count": 123,
   "metadata": {},
   "outputs": [],
   "source": [
    "df.workclass.replace(\"?\",\"Private\",inplace=True)"
   ]
  },
  {
   "cell_type": "code",
   "execution_count": 124,
   "metadata": {},
   "outputs": [
    {
     "data": {
      "text/html": [
       "<div>\n",
       "<style scoped>\n",
       "    .dataframe tbody tr th:only-of-type {\n",
       "        vertical-align: middle;\n",
       "    }\n",
       "\n",
       "    .dataframe tbody tr th {\n",
       "        vertical-align: top;\n",
       "    }\n",
       "\n",
       "    .dataframe thead th {\n",
       "        text-align: right;\n",
       "    }\n",
       "</style>\n",
       "<table border=\"1\" class=\"dataframe\">\n",
       "  <thead>\n",
       "    <tr style=\"text-align: right;\">\n",
       "      <th></th>\n",
       "      <th>Unnamed: 0</th>\n",
       "      <th>age</th>\n",
       "      <th>capital.gain</th>\n",
       "      <th>capital.loss</th>\n",
       "      <th>education</th>\n",
       "      <th>education.num</th>\n",
       "      <th>fnlwgt</th>\n",
       "      <th>hours.per.week</th>\n",
       "      <th>income</th>\n",
       "      <th>marital.status</th>\n",
       "      <th>native.country</th>\n",
       "      <th>occupation</th>\n",
       "      <th>race</th>\n",
       "      <th>relationship</th>\n",
       "      <th>sex</th>\n",
       "      <th>workclass</th>\n",
       "    </tr>\n",
       "  </thead>\n",
       "  <tbody>\n",
       "    <tr>\n",
       "      <th>0</th>\n",
       "      <td>12359</td>\n",
       "      <td>49</td>\n",
       "      <td>0</td>\n",
       "      <td>0</td>\n",
       "      <td>Masters</td>\n",
       "      <td>14</td>\n",
       "      <td>180532</td>\n",
       "      <td>40</td>\n",
       "      <td>0.0</td>\n",
       "      <td>Married-spouse-absent</td>\n",
       "      <td>United-States</td>\n",
       "      <td>Prof-specialty</td>\n",
       "      <td>White</td>\n",
       "      <td>Not-in-family</td>\n",
       "      <td>Male</td>\n",
       "      <td>Private</td>\n",
       "    </tr>\n",
       "    <tr>\n",
       "      <th>1</th>\n",
       "      <td>11680</td>\n",
       "      <td>35</td>\n",
       "      <td>0</td>\n",
       "      <td>0</td>\n",
       "      <td>HS-grad</td>\n",
       "      <td>9</td>\n",
       "      <td>308945</td>\n",
       "      <td>40</td>\n",
       "      <td>1.0</td>\n",
       "      <td>Married-civ-spouse</td>\n",
       "      <td>United-States</td>\n",
       "      <td>Craft-repair</td>\n",
       "      <td>White</td>\n",
       "      <td>Husband</td>\n",
       "      <td>Male</td>\n",
       "      <td>Local-gov</td>\n",
       "    </tr>\n",
       "    <tr>\n",
       "      <th>2</th>\n",
       "      <td>13682</td>\n",
       "      <td>28</td>\n",
       "      <td>0</td>\n",
       "      <td>0</td>\n",
       "      <td>Bachelors</td>\n",
       "      <td>13</td>\n",
       "      <td>47907</td>\n",
       "      <td>40</td>\n",
       "      <td>0.0</td>\n",
       "      <td>Never-married</td>\n",
       "      <td>United-States</td>\n",
       "      <td>Adm-clerical</td>\n",
       "      <td>White</td>\n",
       "      <td>Not-in-family</td>\n",
       "      <td>Female</td>\n",
       "      <td>Private</td>\n",
       "    </tr>\n",
       "    <tr>\n",
       "      <th>3</th>\n",
       "      <td>8807</td>\n",
       "      <td>32</td>\n",
       "      <td>0</td>\n",
       "      <td>0</td>\n",
       "      <td>HS-grad</td>\n",
       "      <td>9</td>\n",
       "      <td>198068</td>\n",
       "      <td>60</td>\n",
       "      <td>0.0</td>\n",
       "      <td>Never-married</td>\n",
       "      <td>United-States</td>\n",
       "      <td>Transport-moving</td>\n",
       "      <td>White</td>\n",
       "      <td>Not-in-family</td>\n",
       "      <td>Male</td>\n",
       "      <td>Private</td>\n",
       "    </tr>\n",
       "    <tr>\n",
       "      <th>4</th>\n",
       "      <td>16644</td>\n",
       "      <td>23</td>\n",
       "      <td>0</td>\n",
       "      <td>0</td>\n",
       "      <td>HS-grad</td>\n",
       "      <td>9</td>\n",
       "      <td>192978</td>\n",
       "      <td>40</td>\n",
       "      <td>0.0</td>\n",
       "      <td>Married-civ-spouse</td>\n",
       "      <td>United-States</td>\n",
       "      <td>Handlers-cleaners</td>\n",
       "      <td>White</td>\n",
       "      <td>Husband</td>\n",
       "      <td>Male</td>\n",
       "      <td>Private</td>\n",
       "    </tr>\n",
       "  </tbody>\n",
       "</table>\n",
       "</div>"
      ],
      "text/plain": [
       "   Unnamed: 0  age  capital.gain  capital.loss  education  education.num  \\\n",
       "0       12359   49             0             0    Masters             14   \n",
       "1       11680   35             0             0    HS-grad              9   \n",
       "2       13682   28             0             0  Bachelors             13   \n",
       "3        8807   32             0             0    HS-grad              9   \n",
       "4       16644   23             0             0    HS-grad              9   \n",
       "\n",
       "   fnlwgt  hours.per.week  income         marital.status native.country  \\\n",
       "0  180532              40     0.0  Married-spouse-absent  United-States   \n",
       "1  308945              40     1.0     Married-civ-spouse  United-States   \n",
       "2   47907              40     0.0          Never-married  United-States   \n",
       "3  198068              60     0.0          Never-married  United-States   \n",
       "4  192978              40     0.0     Married-civ-spouse  United-States   \n",
       "\n",
       "          occupation   race   relationship     sex  workclass  \n",
       "0     Prof-specialty  White  Not-in-family    Male    Private  \n",
       "1       Craft-repair  White        Husband    Male  Local-gov  \n",
       "2       Adm-clerical  White  Not-in-family  Female    Private  \n",
       "3   Transport-moving  White  Not-in-family    Male    Private  \n",
       "4  Handlers-cleaners  White        Husband    Male    Private  "
      ]
     },
     "execution_count": 124,
     "metadata": {},
     "output_type": "execute_result"
    }
   ],
   "source": [
    "df.head()"
   ]
  },
  {
   "cell_type": "code",
   "execution_count": 130,
   "metadata": {},
   "outputs": [],
   "source": [
    "df[\"native.country\"].replace(\"?\",\"United-States\",inplace=True)"
   ]
  },
  {
   "cell_type": "code",
   "execution_count": 134,
   "metadata": {},
   "outputs": [],
   "source": [
    "top_5=df[\"native.country\"].value_counts().head(5).index"
   ]
  },
  {
   "cell_type": "code",
   "execution_count": 135,
   "metadata": {},
   "outputs": [],
   "source": [
    "def max_features(x):\n",
    "    if x in top_5:\n",
    "        return x\n",
    "    else:\n",
    "        return \"others\""
   ]
  },
  {
   "cell_type": "code",
   "execution_count": 139,
   "metadata": {},
   "outputs": [],
   "source": [
    "df[\"country\"]=df[\"native.country\"].transform(lambda x:max_features(x))"
   ]
  },
  {
   "cell_type": "code",
   "execution_count": 140,
   "metadata": {},
   "outputs": [
    {
     "data": {
      "text/html": [
       "<div>\n",
       "<style scoped>\n",
       "    .dataframe tbody tr th:only-of-type {\n",
       "        vertical-align: middle;\n",
       "    }\n",
       "\n",
       "    .dataframe tbody tr th {\n",
       "        vertical-align: top;\n",
       "    }\n",
       "\n",
       "    .dataframe thead th {\n",
       "        text-align: right;\n",
       "    }\n",
       "</style>\n",
       "<table border=\"1\" class=\"dataframe\">\n",
       "  <thead>\n",
       "    <tr style=\"text-align: right;\">\n",
       "      <th></th>\n",
       "      <th>Unnamed: 0</th>\n",
       "      <th>age</th>\n",
       "      <th>capital.gain</th>\n",
       "      <th>capital.loss</th>\n",
       "      <th>education</th>\n",
       "      <th>education.num</th>\n",
       "      <th>fnlwgt</th>\n",
       "      <th>hours.per.week</th>\n",
       "      <th>income</th>\n",
       "      <th>marital.status</th>\n",
       "      <th>native.country</th>\n",
       "      <th>occupation</th>\n",
       "      <th>race</th>\n",
       "      <th>relationship</th>\n",
       "      <th>sex</th>\n",
       "      <th>workclass</th>\n",
       "      <th>country</th>\n",
       "    </tr>\n",
       "  </thead>\n",
       "  <tbody>\n",
       "    <tr>\n",
       "      <th>0</th>\n",
       "      <td>12359</td>\n",
       "      <td>49</td>\n",
       "      <td>0</td>\n",
       "      <td>0</td>\n",
       "      <td>Masters</td>\n",
       "      <td>14</td>\n",
       "      <td>180532</td>\n",
       "      <td>40</td>\n",
       "      <td>0.0</td>\n",
       "      <td>Married-spouse-absent</td>\n",
       "      <td>United-States</td>\n",
       "      <td>Prof-specialty</td>\n",
       "      <td>White</td>\n",
       "      <td>Not-in-family</td>\n",
       "      <td>Male</td>\n",
       "      <td>Private</td>\n",
       "      <td>United-States</td>\n",
       "    </tr>\n",
       "    <tr>\n",
       "      <th>1</th>\n",
       "      <td>11680</td>\n",
       "      <td>35</td>\n",
       "      <td>0</td>\n",
       "      <td>0</td>\n",
       "      <td>HS-grad</td>\n",
       "      <td>9</td>\n",
       "      <td>308945</td>\n",
       "      <td>40</td>\n",
       "      <td>1.0</td>\n",
       "      <td>Married-civ-spouse</td>\n",
       "      <td>United-States</td>\n",
       "      <td>Craft-repair</td>\n",
       "      <td>White</td>\n",
       "      <td>Husband</td>\n",
       "      <td>Male</td>\n",
       "      <td>Local-gov</td>\n",
       "      <td>United-States</td>\n",
       "    </tr>\n",
       "    <tr>\n",
       "      <th>2</th>\n",
       "      <td>13682</td>\n",
       "      <td>28</td>\n",
       "      <td>0</td>\n",
       "      <td>0</td>\n",
       "      <td>Bachelors</td>\n",
       "      <td>13</td>\n",
       "      <td>47907</td>\n",
       "      <td>40</td>\n",
       "      <td>0.0</td>\n",
       "      <td>Never-married</td>\n",
       "      <td>United-States</td>\n",
       "      <td>Adm-clerical</td>\n",
       "      <td>White</td>\n",
       "      <td>Not-in-family</td>\n",
       "      <td>Female</td>\n",
       "      <td>Private</td>\n",
       "      <td>United-States</td>\n",
       "    </tr>\n",
       "    <tr>\n",
       "      <th>3</th>\n",
       "      <td>8807</td>\n",
       "      <td>32</td>\n",
       "      <td>0</td>\n",
       "      <td>0</td>\n",
       "      <td>HS-grad</td>\n",
       "      <td>9</td>\n",
       "      <td>198068</td>\n",
       "      <td>60</td>\n",
       "      <td>0.0</td>\n",
       "      <td>Never-married</td>\n",
       "      <td>United-States</td>\n",
       "      <td>Transport-moving</td>\n",
       "      <td>White</td>\n",
       "      <td>Not-in-family</td>\n",
       "      <td>Male</td>\n",
       "      <td>Private</td>\n",
       "      <td>United-States</td>\n",
       "    </tr>\n",
       "    <tr>\n",
       "      <th>4</th>\n",
       "      <td>16644</td>\n",
       "      <td>23</td>\n",
       "      <td>0</td>\n",
       "      <td>0</td>\n",
       "      <td>HS-grad</td>\n",
       "      <td>9</td>\n",
       "      <td>192978</td>\n",
       "      <td>40</td>\n",
       "      <td>0.0</td>\n",
       "      <td>Married-civ-spouse</td>\n",
       "      <td>United-States</td>\n",
       "      <td>Handlers-cleaners</td>\n",
       "      <td>White</td>\n",
       "      <td>Husband</td>\n",
       "      <td>Male</td>\n",
       "      <td>Private</td>\n",
       "      <td>United-States</td>\n",
       "    </tr>\n",
       "  </tbody>\n",
       "</table>\n",
       "</div>"
      ],
      "text/plain": [
       "   Unnamed: 0  age  capital.gain  capital.loss  education  education.num  \\\n",
       "0       12359   49             0             0    Masters             14   \n",
       "1       11680   35             0             0    HS-grad              9   \n",
       "2       13682   28             0             0  Bachelors             13   \n",
       "3        8807   32             0             0    HS-grad              9   \n",
       "4       16644   23             0             0    HS-grad              9   \n",
       "\n",
       "   fnlwgt  hours.per.week  income         marital.status native.country  \\\n",
       "0  180532              40     0.0  Married-spouse-absent  United-States   \n",
       "1  308945              40     1.0     Married-civ-spouse  United-States   \n",
       "2   47907              40     0.0          Never-married  United-States   \n",
       "3  198068              60     0.0          Never-married  United-States   \n",
       "4  192978              40     0.0     Married-civ-spouse  United-States   \n",
       "\n",
       "          occupation   race   relationship     sex  workclass        country  \n",
       "0     Prof-specialty  White  Not-in-family    Male    Private  United-States  \n",
       "1       Craft-repair  White        Husband    Male  Local-gov  United-States  \n",
       "2       Adm-clerical  White  Not-in-family  Female    Private  United-States  \n",
       "3   Transport-moving  White  Not-in-family    Male    Private  United-States  \n",
       "4  Handlers-cleaners  White        Husband    Male    Private  United-States  "
      ]
     },
     "execution_count": 140,
     "metadata": {},
     "output_type": "execute_result"
    }
   ],
   "source": [
    "df.head()"
   ]
  },
  {
   "cell_type": "code",
   "execution_count": 146,
   "metadata": {},
   "outputs": [
    {
     "data": {
      "text/plain": [
       "0            Masters\n",
       "1            HS-grad\n",
       "2          Bachelors\n",
       "3            HS-grad\n",
       "4            HS-grad\n",
       "6            HS-grad\n",
       "7          Bachelors\n",
       "8          Bachelors\n",
       "9            Masters\n",
       "10      Some-college\n",
       "11           HS-grad\n",
       "12      Some-college\n",
       "13      Some-college\n",
       "14      Some-college\n",
       "15           HS-grad\n",
       "16         Bachelors\n",
       "17           HS-grad\n",
       "18           HS-grad\n",
       "19      Some-college\n",
       "20           HS-grad\n",
       "21           HS-grad\n",
       "22           HS-grad\n",
       "23           HS-grad\n",
       "24        Assoc-acdm\n",
       "25      Some-college\n",
       "26      Some-college\n",
       "27           HS-grad\n",
       "28           HS-grad\n",
       "29      Some-college\n",
       "30           HS-grad\n",
       "            ...     \n",
       "9739       Assoc-voc\n",
       "9740         HS-grad\n",
       "9741        Secondry\n",
       "9742       Bachelors\n",
       "9743         HS-grad\n",
       "9744         HS-grad\n",
       "9745       Assoc-voc\n",
       "9746            12th\n",
       "9747    Some-college\n",
       "9748         HS-grad\n",
       "9749         Masters\n",
       "9750       Bachelors\n",
       "9751         HS-grad\n",
       "9752       Bachelors\n",
       "9753       Bachelors\n",
       "9754         HS-grad\n",
       "9755       Bachelors\n",
       "9756         HS-grad\n",
       "9757         HS-grad\n",
       "9758    Some-college\n",
       "9759            11th\n",
       "9760       Doctorate\n",
       "9761    Some-college\n",
       "9762    Some-college\n",
       "9763         Masters\n",
       "9764       Bachelors\n",
       "9765         Masters\n",
       "9766    Some-college\n",
       "9767       Bachelors\n",
       "9768         HS-grad\n",
       "Name: education, Length: 29772, dtype: object"
      ]
     },
     "execution_count": 146,
     "metadata": {},
     "output_type": "execute_result"
    }
   ],
   "source": [
    "df.education"
   ]
  },
  {
   "cell_type": "code",
   "execution_count": 147,
   "metadata": {},
   "outputs": [
    {
     "data": {
      "text/plain": [
       "HS-grad         9770\n",
       "Some-college    6582\n",
       "Bachelors       4990\n",
       "Masters         1582\n",
       "Assoc-voc       1307\n",
       "Secondry        1038\n",
       "Assoc-acdm       990\n",
       "11th             965\n",
       "10th             804\n",
       "Primary          502\n",
       "Prof-school      492\n",
       "12th             390\n",
       "Doctorate        360\n",
       "Name: education, dtype: int64"
      ]
     },
     "execution_count": 147,
     "metadata": {},
     "output_type": "execute_result"
    }
   ],
   "source": [
    "df.education.value_counts()"
   ]
  },
  {
   "cell_type": "code",
   "execution_count": 148,
   "metadata": {},
   "outputs": [
    {
     "data": {
      "text/plain": [
       "Craft-repair         3935\n",
       "Prof-specialty       3792\n",
       "Exec-managerial      3782\n",
       "Adm-clerical         3535\n",
       "Sales                3313\n",
       "Other-service        2899\n",
       "Machine-op-inspct    1942\n",
       "other                1462\n",
       "Transport-moving     1454\n",
       "Handlers-cleaners    1272\n",
       "Tech-support          871\n",
       "Farming-fishing       800\n",
       "Protective-serv       592\n",
       "Priv-house-serv       115\n",
       "Armed-Forces            8\n",
       "Name: occupation, dtype: int64"
      ]
     },
     "execution_count": 148,
     "metadata": {},
     "output_type": "execute_result"
    }
   ],
   "source": [
    "df.occupation."
   ]
  },
  {
   "cell_type": "code",
   "execution_count": 150,
   "metadata": {},
   "outputs": [],
   "source": [
    "cat_col=df.select_dtypes(exclude=np.number).drop(columns=\"native.country\")"
   ]
  },
  {
   "cell_type": "code",
   "execution_count": 157,
   "metadata": {},
   "outputs": [
    {
     "data": {
      "text/html": [
       "<div>\n",
       "<style scoped>\n",
       "    .dataframe tbody tr th:only-of-type {\n",
       "        vertical-align: middle;\n",
       "    }\n",
       "\n",
       "    .dataframe tbody tr th {\n",
       "        vertical-align: top;\n",
       "    }\n",
       "\n",
       "    .dataframe thead th {\n",
       "        text-align: right;\n",
       "    }\n",
       "</style>\n",
       "<table border=\"1\" class=\"dataframe\">\n",
       "  <thead>\n",
       "    <tr style=\"text-align: right;\">\n",
       "      <th></th>\n",
       "      <th>Unnamed: 0</th>\n",
       "      <th>age</th>\n",
       "      <th>capital.gain</th>\n",
       "      <th>capital.loss</th>\n",
       "      <th>education.num</th>\n",
       "      <th>fnlwgt</th>\n",
       "      <th>hours.per.week</th>\n",
       "      <th>income</th>\n",
       "    </tr>\n",
       "  </thead>\n",
       "  <tbody>\n",
       "    <tr>\n",
       "      <th>Unnamed: 0</th>\n",
       "      <td>1.000000</td>\n",
       "      <td>-0.076519</td>\n",
       "      <td>-0.221069</td>\n",
       "      <td>-0.359413</td>\n",
       "      <td>-0.086981</td>\n",
       "      <td>0.004945</td>\n",
       "      <td>-0.060983</td>\n",
       "      <td>-0.178097</td>\n",
       "    </tr>\n",
       "    <tr>\n",
       "      <th>age</th>\n",
       "      <td>-0.076519</td>\n",
       "      <td>1.000000</td>\n",
       "      <td>0.083104</td>\n",
       "      <td>0.058985</td>\n",
       "      <td>0.035843</td>\n",
       "      <td>-0.076651</td>\n",
       "      <td>0.119595</td>\n",
       "      <td>0.255653</td>\n",
       "    </tr>\n",
       "    <tr>\n",
       "      <th>capital.gain</th>\n",
       "      <td>-0.221069</td>\n",
       "      <td>0.083104</td>\n",
       "      <td>1.000000</td>\n",
       "      <td>-0.031880</td>\n",
       "      <td>0.115766</td>\n",
       "      <td>-0.004374</td>\n",
       "      <td>0.074569</td>\n",
       "      <td>0.215095</td>\n",
       "    </tr>\n",
       "    <tr>\n",
       "      <th>capital.loss</th>\n",
       "      <td>-0.359413</td>\n",
       "      <td>0.058985</td>\n",
       "      <td>-0.031880</td>\n",
       "      <td>1.000000</td>\n",
       "      <td>0.081267</td>\n",
       "      <td>-0.011346</td>\n",
       "      <td>0.057942</td>\n",
       "      <td>0.152538</td>\n",
       "    </tr>\n",
       "    <tr>\n",
       "      <th>education.num</th>\n",
       "      <td>-0.086981</td>\n",
       "      <td>0.035843</td>\n",
       "      <td>0.115766</td>\n",
       "      <td>0.081267</td>\n",
       "      <td>1.000000</td>\n",
       "      <td>-0.047126</td>\n",
       "      <td>0.168125</td>\n",
       "      <td>0.336347</td>\n",
       "    </tr>\n",
       "    <tr>\n",
       "      <th>fnlwgt</th>\n",
       "      <td>0.004945</td>\n",
       "      <td>-0.076651</td>\n",
       "      <td>-0.004374</td>\n",
       "      <td>-0.011346</td>\n",
       "      <td>-0.047126</td>\n",
       "      <td>1.000000</td>\n",
       "      <td>-0.025783</td>\n",
       "      <td>-0.008478</td>\n",
       "    </tr>\n",
       "    <tr>\n",
       "      <th>hours.per.week</th>\n",
       "      <td>-0.060983</td>\n",
       "      <td>0.119595</td>\n",
       "      <td>0.074569</td>\n",
       "      <td>0.057942</td>\n",
       "      <td>0.168125</td>\n",
       "      <td>-0.025783</td>\n",
       "      <td>1.000000</td>\n",
       "      <td>0.255034</td>\n",
       "    </tr>\n",
       "    <tr>\n",
       "      <th>income</th>\n",
       "      <td>-0.178097</td>\n",
       "      <td>0.255653</td>\n",
       "      <td>0.215095</td>\n",
       "      <td>0.152538</td>\n",
       "      <td>0.336347</td>\n",
       "      <td>-0.008478</td>\n",
       "      <td>0.255034</td>\n",
       "      <td>1.000000</td>\n",
       "    </tr>\n",
       "  </tbody>\n",
       "</table>\n",
       "</div>"
      ],
      "text/plain": [
       "                Unnamed: 0       age  capital.gain  capital.loss  \\\n",
       "Unnamed: 0        1.000000 -0.076519     -0.221069     -0.359413   \n",
       "age              -0.076519  1.000000      0.083104      0.058985   \n",
       "capital.gain     -0.221069  0.083104      1.000000     -0.031880   \n",
       "capital.loss     -0.359413  0.058985     -0.031880      1.000000   \n",
       "education.num    -0.086981  0.035843      0.115766      0.081267   \n",
       "fnlwgt            0.004945 -0.076651     -0.004374     -0.011346   \n",
       "hours.per.week   -0.060983  0.119595      0.074569      0.057942   \n",
       "income           -0.178097  0.255653      0.215095      0.152538   \n",
       "\n",
       "                education.num    fnlwgt  hours.per.week    income  \n",
       "Unnamed: 0          -0.086981  0.004945       -0.060983 -0.178097  \n",
       "age                  0.035843 -0.076651        0.119595  0.255653  \n",
       "capital.gain         0.115766 -0.004374        0.074569  0.215095  \n",
       "capital.loss         0.081267 -0.011346        0.057942  0.152538  \n",
       "education.num        1.000000 -0.047126        0.168125  0.336347  \n",
       "fnlwgt              -0.047126  1.000000       -0.025783 -0.008478  \n",
       "hours.per.week       0.168125 -0.025783        1.000000  0.255034  \n",
       "income               0.336347 -0.008478        0.255034  1.000000  "
      ]
     },
     "execution_count": 157,
     "metadata": {},
     "output_type": "execute_result"
    }
   ],
   "source": [
    "df.corr()"
   ]
  },
  {
   "cell_type": "code",
   "execution_count": 161,
   "metadata": {},
   "outputs": [],
   "source": [
    "num_col=df.select_dtypes(include=np.number).drop(columns=[\"Unnamed: 0\",\"fnlwgt\"])"
   ]
  },
  {
   "cell_type": "code",
   "execution_count": 159,
   "metadata": {},
   "outputs": [],
   "source": [
    "cat_col_pr=pd.get_dummies(cat_col)"
   ]
  },
  {
   "cell_type": "code",
   "execution_count": 164,
   "metadata": {},
   "outputs": [],
   "source": [
    "df_new=pd.concat([cat_col_pr,num_col],axis=1)"
   ]
  },
  {
   "cell_type": "code",
   "execution_count": 165,
   "metadata": {},
   "outputs": [
    {
     "data": {
      "text/plain": [
       "(29772, 68)"
      ]
     },
     "execution_count": 165,
     "metadata": {},
     "output_type": "execute_result"
    }
   ],
   "source": [
    "df_new.shape"
   ]
  },
  {
   "cell_type": "markdown",
   "metadata": {},
   "source": [
    "## Train test split"
   ]
  },
  {
   "cell_type": "code",
   "execution_count": 168,
   "metadata": {},
   "outputs": [],
   "source": [
    "train_new=df_new[df_new.income.notna()]"
   ]
  },
  {
   "cell_type": "code",
   "execution_count": 170,
   "metadata": {},
   "outputs": [],
   "source": [
    "test_new=df_new[df_new.income.isna()]"
   ]
  },
  {
   "cell_type": "code",
   "execution_count": 172,
   "metadata": {},
   "outputs": [],
   "source": [
    "X=train_new.drop(columns=\"income\")"
   ]
  },
  {
   "cell_type": "code",
   "execution_count": 173,
   "metadata": {},
   "outputs": [],
   "source": [
    "y=train_new[\"income\"]"
   ]
  },
  {
   "cell_type": "code",
   "execution_count": 174,
   "metadata": {},
   "outputs": [
    {
     "data": {
      "text/plain": [
       "(20859, 67)"
      ]
     },
     "execution_count": 174,
     "metadata": {},
     "output_type": "execute_result"
    }
   ],
   "source": [
    "X.shape"
   ]
  },
  {
   "cell_type": "code",
   "execution_count": 175,
   "metadata": {},
   "outputs": [
    {
     "data": {
      "text/plain": [
       "(20859,)"
      ]
     },
     "execution_count": 175,
     "metadata": {},
     "output_type": "execute_result"
    }
   ],
   "source": [
    "y.shape"
   ]
  },
  {
   "cell_type": "markdown",
   "metadata": {},
   "source": [
    "## Scaling"
   ]
  },
  {
   "cell_type": "code",
   "execution_count": 176,
   "metadata": {},
   "outputs": [],
   "source": [
    "from sklearn.preprocessing import StandardScaler"
   ]
  },
  {
   "cell_type": "code",
   "execution_count": 177,
   "metadata": {},
   "outputs": [],
   "source": [
    "std=StandardScaler()"
   ]
  },
  {
   "cell_type": "code",
   "execution_count": 178,
   "metadata": {},
   "outputs": [],
   "source": [
    "scaled_x=std.fit_transform(X)"
   ]
  },
  {
   "cell_type": "code",
   "execution_count": 191,
   "metadata": {},
   "outputs": [],
   "source": [
    "from sklearn.model_selection import train_test_split\n",
    "from sklearn.metrics import accuracy_score\n",
    "import warnings\n",
    "warnings.filterwarnings('ignore')"
   ]
  },
  {
   "cell_type": "code",
   "execution_count": 184,
   "metadata": {},
   "outputs": [],
   "source": [
    "train_x=X"
   ]
  },
  {
   "cell_type": "code",
   "execution_count": 185,
   "metadata": {},
   "outputs": [],
   "source": [
    "train_y=y"
   ]
  },
  {
   "cell_type": "code",
   "execution_count": 187,
   "metadata": {},
   "outputs": [],
   "source": [
    "test_x=test_new.drop(columns=\"income\")"
   ]
  },
  {
   "cell_type": "code",
   "execution_count": 189,
   "metadata": {},
   "outputs": [],
   "source": [
    "test_y=test_new[\"income\"]"
   ]
  },
  {
   "cell_type": "markdown",
   "metadata": {},
   "source": [
    "## Logistic Regression"
   ]
  },
  {
   "cell_type": "code",
   "execution_count": 181,
   "metadata": {},
   "outputs": [],
   "source": [
    "from sklearn.linear_model import LogisticRegression"
   ]
  },
  {
   "cell_type": "code",
   "execution_count": 182,
   "metadata": {},
   "outputs": [],
   "source": [
    "log=LogisticRegression()"
   ]
  },
  {
   "cell_type": "code",
   "execution_count": 192,
   "metadata": {},
   "outputs": [
    {
     "data": {
      "text/plain": [
       "LogisticRegression(C=1.0, class_weight=None, dual=False, fit_intercept=True,\n",
       "                   intercept_scaling=1, l1_ratio=None, max_iter=100,\n",
       "                   multi_class='warn', n_jobs=None, penalty='l2',\n",
       "                   random_state=None, solver='warn', tol=0.0001, verbose=0,\n",
       "                   warm_start=False)"
      ]
     },
     "execution_count": 192,
     "metadata": {},
     "output_type": "execute_result"
    }
   ],
   "source": [
    "log.fit(train_x,train_y)"
   ]
  },
  {
   "cell_type": "code",
   "execution_count": 193,
   "metadata": {},
   "outputs": [],
   "source": [
    "train_pred=log.predict(train_x)"
   ]
  },
  {
   "cell_type": "code",
   "execution_count": 200,
   "metadata": {},
   "outputs": [
    {
     "data": {
      "text/plain": [
       "0.8504722182271441"
      ]
     },
     "execution_count": 200,
     "metadata": {},
     "output_type": "execute_result"
    }
   ],
   "source": [
    "accuracy_score(train_y,train_pred)"
   ]
  },
  {
   "cell_type": "code",
   "execution_count": 202,
   "metadata": {},
   "outputs": [],
   "source": [
    "test_pred=log.predict(test_x)"
   ]
  },
  {
   "cell_type": "code",
   "execution_count": 206,
   "metadata": {},
   "outputs": [
    {
     "data": {
      "text/plain": [
       "(8913,)"
      ]
     },
     "execution_count": 206,
     "metadata": {},
     "output_type": "execute_result"
    }
   ],
   "source": [
    "test_pred.shape"
   ]
  },
  {
   "cell_type": "code",
   "execution_count": 217,
   "metadata": {},
   "outputs": [],
   "source": [
    "def model_sel(model,X1,y1):\n",
    "    train_x1,test_x1,train_y1,test_y1=train_test_split(X1,y1,test_size=0.3,random_state=101)\n",
    "    model.fit(train_x1,train_y1)\n",
    "    train_pred=model.predict(train_x1)\n",
    "    test_pred=model.predict(test_x1)\n",
    "    print(\"Accuracy Score:\",accuracy_score(train_y1,train_pred))\n",
    "    print(\"Accuracy Score:\",accuracy_score(test_y1,test_pred))\n",
    "    "
   ]
  },
  {
   "cell_type": "code",
   "execution_count": 218,
   "metadata": {},
   "outputs": [
    {
     "name": "stdout",
     "output_type": "stream",
     "text": [
      "Accuracy Score: 0.8509691117046778\n",
      "Accuracy Score: 0.8440396292745286\n"
     ]
    }
   ],
   "source": [
    "model_sel(log,scaled_x,y)"
   ]
  },
  {
   "cell_type": "markdown",
   "metadata": {},
   "source": [
    "## Decision Tree"
   ]
  },
  {
   "cell_type": "code",
   "execution_count": 210,
   "metadata": {},
   "outputs": [],
   "source": [
    "from sklearn.tree import DecisionTreeClassifier"
   ]
  },
  {
   "cell_type": "code",
   "execution_count": 211,
   "metadata": {},
   "outputs": [],
   "source": [
    "dt=DecisionTreeClassifier()"
   ]
  },
  {
   "cell_type": "code",
   "execution_count": 219,
   "metadata": {},
   "outputs": [
    {
     "name": "stdout",
     "output_type": "stream",
     "text": [
      "Accuracy Score: 0.9817820697212519\n",
      "Accuracy Score: 0.8055289229785874\n"
     ]
    }
   ],
   "source": [
    "model_sel(dt,X,y)"
   ]
  },
  {
   "cell_type": "code",
   "execution_count": 223,
   "metadata": {},
   "outputs": [
    {
     "name": "stdout",
     "output_type": "stream",
     "text": [
      "Accuracy Score: 0.9817820697212519\n",
      "Accuracy Score: 0.8064876957494407\n"
     ]
    }
   ],
   "source": [
    "model_sel(dt,scaled_x,y)"
   ]
  },
  {
   "cell_type": "markdown",
   "metadata": {},
   "source": [
    "## Random Forest"
   ]
  },
  {
   "cell_type": "code",
   "execution_count": 220,
   "metadata": {},
   "outputs": [],
   "source": [
    "from sklearn.ensemble import RandomForestClassifier"
   ]
  },
  {
   "cell_type": "code",
   "execution_count": 221,
   "metadata": {},
   "outputs": [],
   "source": [
    "rf=RandomForestClassifier()"
   ]
  },
  {
   "cell_type": "code",
   "execution_count": 222,
   "metadata": {},
   "outputs": [
    {
     "name": "stdout",
     "output_type": "stream",
     "text": [
      "Accuracy Score: 0.9697965892747072\n",
      "Accuracy Score: 0.8363694471077021\n"
     ]
    }
   ],
   "source": [
    "model_sel(rf,X,y)"
   ]
  },
  {
   "cell_type": "code",
   "execution_count": 224,
   "metadata": {},
   "outputs": [
    {
     "name": "stdout",
     "output_type": "stream",
     "text": [
      "Accuracy Score: 0.970276008492569\n",
      "Accuracy Score: 0.8355704697986577\n"
     ]
    }
   ],
   "source": [
    "model_sel(rf,scaled_x,y)"
   ]
  },
  {
   "cell_type": "markdown",
   "metadata": {},
   "source": [
    "## KNN"
   ]
  },
  {
   "cell_type": "code",
   "execution_count": 225,
   "metadata": {},
   "outputs": [],
   "source": [
    "from sklearn.neighbors import KNeighborsClassifier"
   ]
  },
  {
   "cell_type": "code",
   "execution_count": 228,
   "metadata": {},
   "outputs": [],
   "source": [
    "knn=KNeighborsClassifier(10)"
   ]
  },
  {
   "cell_type": "code",
   "execution_count": 229,
   "metadata": {},
   "outputs": [
    {
     "name": "stdout",
     "output_type": "stream",
     "text": [
      "Accuracy Score: 0.8728169303472365\n",
      "Accuracy Score: 0.8430808565036753\n"
     ]
    }
   ],
   "source": [
    "model_sel(knn,X,y)"
   ]
  },
  {
   "cell_type": "markdown",
   "metadata": {},
   "source": [
    "## Adaboost"
   ]
  },
  {
   "cell_type": "code",
   "execution_count": 230,
   "metadata": {},
   "outputs": [],
   "source": [
    "from sklearn.ensemble import AdaBoostClassifier"
   ]
  },
  {
   "cell_type": "code",
   "execution_count": 231,
   "metadata": {},
   "outputs": [],
   "source": [
    "ada=AdaBoostClassifier()"
   ]
  },
  {
   "cell_type": "code",
   "execution_count": 232,
   "metadata": {},
   "outputs": [
    {
     "name": "stdout",
     "output_type": "stream",
     "text": [
      "Accuracy Score: 0.8602150537634409\n",
      "Accuracy Score: 0.8521891978267817\n"
     ]
    }
   ],
   "source": [
    "model_sel(ada,X,y)"
   ]
  },
  {
   "cell_type": "code",
   "execution_count": null,
   "metadata": {},
   "outputs": [],
   "source": []
  },
  {
   "cell_type": "code",
   "execution_count": null,
   "metadata": {},
   "outputs": [],
   "source": []
  },
  {
   "cell_type": "code",
   "execution_count": null,
   "metadata": {},
   "outputs": [],
   "source": []
  },
  {
   "cell_type": "code",
   "execution_count": null,
   "metadata": {},
   "outputs": [],
   "source": []
  },
  {
   "cell_type": "code",
   "execution_count": null,
   "metadata": {},
   "outputs": [],
   "source": []
  },
  {
   "cell_type": "code",
   "execution_count": null,
   "metadata": {},
   "outputs": [],
   "source": []
  },
  {
   "cell_type": "code",
   "execution_count": null,
   "metadata": {},
   "outputs": [],
   "source": []
  },
  {
   "cell_type": "code",
   "execution_count": null,
   "metadata": {},
   "outputs": [],
   "source": []
  },
  {
   "cell_type": "code",
   "execution_count": null,
   "metadata": {},
   "outputs": [],
   "source": []
  }
 ],
 "metadata": {
  "kernelspec": {
   "display_name": "Python 3",
   "language": "python",
   "name": "python3"
  },
  "language_info": {
   "codemirror_mode": {
    "name": "ipython",
    "version": 3
   },
   "file_extension": ".py",
   "mimetype": "text/x-python",
   "name": "python",
   "nbconvert_exporter": "python",
   "pygments_lexer": "ipython3",
   "version": "3.7.3"
  }
 },
 "nbformat": 4,
 "nbformat_minor": 2
}
